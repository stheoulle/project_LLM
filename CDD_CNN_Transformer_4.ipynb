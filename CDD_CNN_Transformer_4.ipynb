{
 "cells": [
  {
   "cell_type": "code",
   "execution_count": 45,
   "metadata": {},
   "outputs": [],
   "source": [
    "# 📓 Notebook : Classification multimodale séquentielle CNN + Transformer\n",
    "\n",
    "# 📦 Imports\n",
    "import os\n",
    "import numpy as np\n",
    "import pandas as pd\n",
    "import tensorflow as tf\n",
    "from tensorflow.keras.layers import (\n",
    "    Input, Dense, Conv2D, MaxPooling2D, GlobalAveragePooling2D, Dropout,\n",
    "    LayerNormalization, MultiHeadAttention, GlobalAveragePooling1D,\n",
    "    TimeDistributed, Concatenate, Lambda\n",
    ")\n",
    "from tensorflow.keras.models import Model\n",
    "from tensorflow.keras.utils import to_categorical\n",
    "from sklearn.model_selection import train_test_split\n",
    "from sklearn.preprocessing import StandardScaler, OneHotEncoder\n",
    "from sklearn.feature_extraction.text import TfidfVectorizer\n",
    "from sklearn.utils.class_weight import compute_class_weight\n",
    "from PIL import Image\n",
    "import json\n"
   ]
  },
  {
   "cell_type": "code",
   "execution_count": 46,
   "metadata": {},
   "outputs": [],
   "source": [
    "def features_exist(path_list):\n",
    "    return all(os.path.exists(p) for p in path_list)\n"
   ]
  },
  {
   "cell_type": "code",
   "execution_count": 47,
   "metadata": {},
   "outputs": [],
   "source": [
    "\n",
    "# --- Dossiers (à adapter)\n",
    "image_dir_le = 'CDD-CESM/PKG - CDD-CESM/CDD-CESM/Low energy images of CDD-CESM'\n",
    "image_dir_sub = 'CDD-CESM/PKG - CDD-CESM/CDD-CESM/Subtracted images of CDD-CESM'\n",
    "json_dir = 'CDD-CESM/json_output'\n",
    "excel_path = 'processed_metadata.csv'\n",
    "\n",
    "X_img_train_feats_path = 'model/X_img_train_feats.npy'\n",
    "X_img_val_feats_path = 'model/X_img_val_feats.npy'\n",
    "X_img_test_feats_path = 'model/X_img_test_feats.npy'\n",
    "\n",
    "\n",
    "# --- Fonction de chargement séquentiel des 8 images (chaque image 224x224x1)\n",
    "def load_images_sequential_partial(patient_id):\n",
    "    paths = [\n",
    "        f\"{image_dir_le}/P{patient_id}_L_DM_CC.jpg\",\n",
    "        f\"{image_dir_le}/P{patient_id}_L_DM_MLO.jpg\",\n",
    "        f\"{image_dir_sub}/P{patient_id}_L_CM_CC.jpg\",\n",
    "        f\"{image_dir_sub}/P{patient_id}_L_CM_MLO.jpg\",\n",
    "        f\"{image_dir_le}/P{patient_id}_R_DM_CC.jpg\",\n",
    "        f\"{image_dir_le}/P{patient_id}_R_DM_MLO.jpg\",\n",
    "        f\"{image_dir_sub}/P{patient_id}_R_CM_CC.jpg\",\n",
    "        f\"{image_dir_sub}/P{patient_id}_R_CM_MLO.jpg\",\n",
    "    ]\n",
    "    imgs = []\n",
    "    valid_found = False\n",
    "    for p in paths:\n",
    "        if os.path.exists(p):\n",
    "            try:\n",
    "                img = Image.open(p).convert('L').resize((224, 224))\n",
    "                arr = np.array(img) / 255.0\n",
    "                arr = arr[..., np.newaxis]\n",
    "                valid_found = True\n",
    "            except:\n",
    "                arr = np.zeros((224, 224, 1), dtype=np.float32)\n",
    "        else:\n",
    "            arr = np.zeros((224, 224, 1), dtype=np.float32)\n",
    "        imgs.append(arr)\n",
    "    return np.stack(imgs, axis=0) if valid_found else None\n",
    "\n",
    "\n",
    "# --- Chargement des métadonnées\n",
    "meta_df = pd.read_csv(excel_path)\n",
    "meta_df = meta_df.dropna(subset=['Patient_ID', 'Pathology Classification/ Follow up'])\n",
    "meta_df['Patient_ID'] = meta_df['Patient_ID'].astype(str)\n",
    "\n",
    "# --- Chargement textes JSON\n",
    "texts = []\n",
    "for pid in meta_df['Patient_ID']:\n",
    "    path = os.path.join(json_dir, f\"P{pid}.json\")\n",
    "    if os.path.exists(path):\n",
    "        with open(path, encoding=\"utf-8\") as f:\n",
    "            try:\n",
    "                d = json.load(f)\n",
    "                flat_text = []\n",
    "                for v in d.values():\n",
    "                    flat_text.extend(map(str, v) if isinstance(v, list) else [str(v)])\n",
    "                texts.append(\" \".join(flat_text))\n",
    "            except:\n",
    "                texts.append(\"\")\n",
    "    else:\n",
    "        texts.append(\"\")\n"
   ]
  },
  {
   "cell_type": "code",
   "execution_count": 48,
   "metadata": {},
   "outputs": [],
   "source": [
    "\n",
    "# --- Echantillonnage 80%\n",
    "sampled_df = meta_df.sample(frac=0.8, random_state=42)\n",
    "sampled_patient_ids = sampled_df['Patient_ID'].tolist()\n"
   ]
  },
  {
   "cell_type": "code",
   "execution_count": 49,
   "metadata": {},
   "outputs": [],
   "source": [
    "\n",
    "# --- Chargement séquentiel des images + labels\n",
    "images = []\n",
    "valid_labels = []\n",
    "valid_pids = []\n",
    "skipped_image = 0\n",
    "\n",
    "for pid, label in zip(sampled_df['Patient_ID'], sampled_df['Pathology Classification/ Follow up']):\n",
    "    imgs_seq = load_images_sequential_partial(pid)\n",
    "    if imgs_seq is not None:\n",
    "        images.append(imgs_seq)\n",
    "        valid_labels.append(label)\n",
    "        valid_pids.append(pid)\n",
    "    else:\n",
    "        skipped_image += 1\n",
    "\n"
   ]
  },
  {
   "cell_type": "code",
   "execution_count": 50,
   "metadata": {},
   "outputs": [],
   "source": [
    "\n",
    "# --- Alignement des données\n",
    "image_patient_ids = set(valid_pids)\n",
    "text_patient_ids = set(sampled_patient_ids)\n",
    "metadata_patient_ids = set(meta_df['Patient_ID'])\n",
    "common_patient_ids = list(image_patient_ids & text_patient_ids & metadata_patient_ids)\n",
    "\n",
    "image_dict = {pid: img for pid, img in zip(valid_pids, images) if pid in common_patient_ids}\n",
    "label_dict = {pid: label for pid, label in zip(valid_pids, valid_labels) if pid in common_patient_ids}\n",
    "text_dict = {pid: text for pid, text in zip(sampled_patient_ids, texts) if pid in common_patient_ids}\n",
    "meta_dict = {pid: meta_df[meta_df['Patient_ID'] == pid].iloc[0] for pid in common_patient_ids}\n",
    "\n",
    "images_filtered = np.array([image_dict[pid] for pid in common_patient_ids])  # shape (N, 8, 224, 224, 1)\n",
    "labels_filtered = [label_dict[pid] for pid in common_patient_ids]\n",
    "texts_filtered = [text_dict[pid] for pid in common_patient_ids]\n",
    "meta_df_filtered = pd.DataFrame([meta_dict[pid] for pid in common_patient_ids])\n"
   ]
  },
  {
   "cell_type": "code",
   "execution_count": 51,
   "metadata": {},
   "outputs": [],
   "source": [
    "\n",
    "# --- Textes vectorisés\n",
    "vectorizer = TfidfVectorizer(max_features=1000)\n",
    "text_features_filtered = vectorizer.fit_transform(texts_filtered).toarray()\n"
   ]
  },
  {
   "cell_type": "code",
   "execution_count": 52,
   "metadata": {},
   "outputs": [
    {
     "name": "stderr",
     "output_type": "stream",
     "text": [
      "/tmp/ipykernel_727185/1470660569.py:13: FutureWarning: factorize with argument that is not not a Series, Index, ExtensionArray, or np.ndarray is deprecated and will raise in a future version.\n",
      "  valid_labels_encoded, label_names = pd.factorize(labels_filtered)\n"
     ]
    }
   ],
   "source": [
    "\n",
    "# --- Encodage des métadonnées\n",
    "numerical = meta_df_filtered.select_dtypes(include=['float', 'int']).columns.tolist()\n",
    "categorical = meta_df_filtered.select_dtypes(include=['object']).drop(columns=['Patient_ID', 'Pathology Classification/ Follow up']).columns.tolist()\n",
    "\n",
    "scaler = StandardScaler()\n",
    "encoder = OneHotEncoder(sparse_output=False)\n",
    "\n",
    "meta_num_filtered = scaler.fit_transform(meta_df_filtered[numerical])\n",
    "meta_cat_filtered = encoder.fit_transform(meta_df_filtered[categorical])\n",
    "meta_features_filtered = np.concatenate([meta_num_filtered, meta_cat_filtered], axis=1)\n",
    "\n",
    "# --- Encodage des labels\n",
    "valid_labels_encoded, label_names = pd.factorize(labels_filtered)\n",
    "labels_cat = to_categorical(valid_labels_encoded)\n",
    "\n",
    "# --- Poids de classes\n",
    "class_weights = compute_class_weight(class_weight='balanced', classes=np.unique(valid_labels_encoded), y=valid_labels_encoded)\n",
    "class_weight_dict = dict(enumerate(class_weights))\n"
   ]
  },
  {
   "cell_type": "code",
   "execution_count": 53,
   "metadata": {},
   "outputs": [],
   "source": [
    "\n",
    "# --- Split train/test\n",
    "X_img_temp, X_img_test, X_meta_temp, X_meta_test, X_txt_temp, X_txt_test, y_temp, y_test = train_test_split(\n",
    "    images_filtered, meta_features_filtered, text_features_filtered, labels_cat,\n",
    "    test_size=0.1, random_state=42)\n",
    "\n",
    "X_img_train, X_img_val, X_meta_train, X_meta_val, X_txt_train, X_txt_val, y_train, y_val = train_test_split(\n",
    "    X_img_temp, X_meta_temp, X_txt_temp, y_temp,\n",
    "    test_size=0.2, random_state=42)\n"
   ]
  },
  {
   "cell_type": "code",
   "execution_count": 54,
   "metadata": {},
   "outputs": [],
   "source": [
    "from tensorflow.keras.applications import DenseNet121\n",
    "from tensorflow.keras.applications.resnet50 import preprocess_input\n",
    "from tensorflow.keras.layers import Lambda, TimeDistributed, Dense, GlobalAveragePooling2D, Input, Concatenate, Dropout\n",
    "from tensorflow.keras.models import Model\n",
    "import tensorflow as tf\n",
    "\n",
    "# --- CNN préentraîné médical (RadImageNet = proche IRM/CT)\n",
    "def create_radimagenet_encoder():\n",
    "    base_model = DenseNet121(\n",
    "        include_top=False,\n",
    "        weights=None,  # on charge manuellement après\n",
    "        input_shape=(224, 224, 3)\n",
    "    )\n",
    "    # Charger les poids RadImageNet\n",
    "    base_model.load_weights(\"weights/RadImageNet-DenseNet121_notop.h5\")\n",
    "\n",
    "    base_model.trainable = False  # pour garder les features médicales\n",
    "\n",
    "    inputs = Input(shape=(224, 224, 1), name=\"img_input_gray\")\n",
    "    x = Lambda(lambda img: tf.image.grayscale_to_rgb(img))(inputs)\n",
    "    x = preprocess_input(x)\n",
    "    x = base_model(x, training=False)\n",
    "    x = GlobalAveragePooling2D()(x)\n",
    "    x = Dense(64, activation='relu')(x)\n",
    "    return Model(inputs, x, name=\"radimagenet_densenet_encoder\")\n",
    "\n"
   ]
  },
  {
   "cell_type": "code",
   "execution_count": 55,
   "metadata": {},
   "outputs": [],
   "source": [
    "\n",
    "# --- TransformerBlock déjà défini plus tôt\n",
    "class TransformerBlock(tf.keras.layers.Layer):\n",
    "    def __init__(self, embed_dim, num_heads, ff_dim, rate=0.1):\n",
    "        super().__init__()\n",
    "        self.att = tf.keras.layers.MultiHeadAttention(num_heads=num_heads, key_dim=embed_dim)\n",
    "        self.ffn = tf.keras.Sequential([\n",
    "            Dense(ff_dim, activation=\"relu\"),\n",
    "            Dense(embed_dim)\n",
    "        ])\n",
    "        self.layernorm1 = tf.keras.layers.LayerNormalization(epsilon=1e-6)\n",
    "        self.layernorm2 = tf.keras.layers.LayerNormalization(epsilon=1e-6)\n",
    "        self.dropout1 = tf.keras.layers.Dropout(rate)\n",
    "        self.dropout2 = tf.keras.layers.Dropout(rate)\n",
    "\n",
    "    def call(self, inputs, training=None):\n",
    "        attn_output = self.att(inputs, inputs)\n",
    "        attn_output = self.dropout1(attn_output, training=training)\n",
    "        out1 = self.layernorm1(inputs + attn_output)\n",
    "        ffn_output = self.ffn(out1)\n",
    "        ffn_output = self.dropout2(ffn_output, training=training)\n",
    "        return self.layernorm2(out1 + ffn_output)\n"
   ]
  },
  {
   "cell_type": "code",
   "execution_count": 56,
   "metadata": {},
   "outputs": [],
   "source": [
    "\n",
    "# Inputs\n",
    "img_seq_input = Input(shape=(8, 224, 224, 1), name='img_seq_input')\n",
    "\n",
    "# CNN encoder partagé\n",
    "cnn_encoder = create_radimagenet_encoder()\n",
    "x_img_seq = TimeDistributed(cnn_encoder)(img_seq_input)\n",
    "x_img_seq = TransformerBlock(embed_dim=64, num_heads=4, ff_dim=128)(x_img_seq)\n",
    "x_img_seq = tf.keras.layers.GlobalAveragePooling1D()(x_img_seq)\n",
    "\n",
    "# Classification\n",
    "x = Dense(128, activation='relu')(x_img_seq)\n",
    "x = Dropout(0.3)(x)\n",
    "x = Dense(64, activation='relu')(x)\n",
    "x = Dropout(0.2)(x)\n",
    "output = Dense(len(label_names), activation='softmax')(x)\n",
    "\n",
    "# Modèle image-only\n",
    "cnn_model = Model(inputs=img_seq_input, outputs=output)\n",
    "cnn_model.compile(optimizer='adam', loss='categorical_crossentropy', metrics=['accuracy'])"
   ]
  },
  {
   "cell_type": "code",
   "execution_count": 57,
   "metadata": {},
   "outputs": [
    {
     "name": "stdout",
     "output_type": "stream",
     "text": [
      "🔄 Chargement des features extraites du modèle CNN...\n"
     ]
    }
   ],
   "source": [
    "from tqdm.keras import TqdmCallback\n",
    "\n",
    "if features_exist([X_img_train_feats_path, X_img_val_feats_path, X_img_test_feats_path]):\n",
    "    print(\"🔄 Chargement des features extraites du modèle CNN...\")\n",
    "    X_img_train_feats = np.load(X_img_train_feats_path)\n",
    "    X_img_val_feats = np.load(X_img_val_feats_path)\n",
    "    X_img_test_feats = np.load(X_img_test_feats_path)\n",
    "else:\n",
    "    print(\"🚀 Entraînement du modèle CNN et extraction des features...\")\n",
    "\n",
    "    # Phase 1 : entraînement CNN\n",
    "    history_phase1 = cnn_model.fit(\n",
    "        X_img_train,\n",
    "        y_train,\n",
    "        validation_data=(X_img_val, y_val),\n",
    "        epochs=30,\n",
    "        batch_size=16,\n",
    "        class_weight=class_weight_dict,\n",
    "        callbacks=[TqdmCallback(verbose=1)]\n",
    "    )\n",
    "\n",
    "    # Extraction des features\n",
    "    cnn_feature_extractor = Model(inputs=img_seq_input, outputs=x_img_seq)\n",
    "    cnn_feature_extractor.trainable = False\n",
    "\n",
    "    X_img_train_feats = cnn_feature_extractor.predict(X_img_train)\n",
    "    X_img_val_feats = cnn_feature_extractor.predict(X_img_val)\n",
    "    X_img_test_feats = cnn_feature_extractor.predict(X_img_test)\n",
    "\n",
    "    # Sauvegarde pour les prochains runs\n",
    "    np.save(X_img_train_feats_path, X_img_train_feats)\n",
    "    np.save(X_img_val_feats_path, X_img_val_feats)\n",
    "    np.save(X_img_test_feats_path, X_img_test_feats)\n"
   ]
  },
  {
   "cell_type": "code",
   "execution_count": 68,
   "metadata": {},
   "outputs": [
    {
     "data": {
      "text/html": [
       "<pre style=\"white-space:pre;overflow-x:auto;line-height:normal;font-family:Menlo,'DejaVu Sans Mono',consolas,'Courier New',monospace\"><span style=\"font-weight: bold\">Model: \"functional_13\"</span>\n",
       "</pre>\n"
      ],
      "text/plain": [
       "\u001b[1mModel: \"functional_13\"\u001b[0m\n"
      ]
     },
     "metadata": {},
     "output_type": "display_data"
    },
    {
     "data": {
      "text/html": [
       "<pre style=\"white-space:pre;overflow-x:auto;line-height:normal;font-family:Menlo,'DejaVu Sans Mono',consolas,'Courier New',monospace\">┏━━━━━━━━━━━━━━━━━━━━━┳━━━━━━━━━━━━━━━━━━━┳━━━━━━━━━━━━┳━━━━━━━━━━━━━━━━━━━┓\n",
       "┃<span style=\"font-weight: bold\"> Layer (type)        </span>┃<span style=\"font-weight: bold\"> Output Shape      </span>┃<span style=\"font-weight: bold\">    Param # </span>┃<span style=\"font-weight: bold\"> Connected to      </span>┃\n",
       "┡━━━━━━━━━━━━━━━━━━━━━╇━━━━━━━━━━━━━━━━━━━╇━━━━━━━━━━━━╇━━━━━━━━━━━━━━━━━━━┩\n",
       "│ cnn_img_feat        │ (<span style=\"color: #00d7ff; text-decoration-color: #00d7ff\">None</span>, <span style=\"color: #00af00; text-decoration-color: #00af00\">64</span>)        │          <span style=\"color: #00af00; text-decoration-color: #00af00\">0</span> │ -                 │\n",
       "│ (<span style=\"color: #0087ff; text-decoration-color: #0087ff\">InputLayer</span>)        │                   │            │                   │\n",
       "├─────────────────────┼───────────────────┼────────────┼───────────────────┤\n",
       "│ meta_input          │ (<span style=\"color: #00d7ff; text-decoration-color: #00d7ff\">None</span>, <span style=\"color: #00af00; text-decoration-color: #00af00\">586</span>)       │          <span style=\"color: #00af00; text-decoration-color: #00af00\">0</span> │ -                 │\n",
       "│ (<span style=\"color: #0087ff; text-decoration-color: #0087ff\">InputLayer</span>)        │                   │            │                   │\n",
       "├─────────────────────┼───────────────────┼────────────┼───────────────────┤\n",
       "│ text_input          │ (<span style=\"color: #00d7ff; text-decoration-color: #00d7ff\">None</span>, <span style=\"color: #00af00; text-decoration-color: #00af00\">354</span>)       │          <span style=\"color: #00af00; text-decoration-color: #00af00\">0</span> │ -                 │\n",
       "│ (<span style=\"color: #0087ff; text-decoration-color: #0087ff\">InputLayer</span>)        │                   │            │                   │\n",
       "├─────────────────────┼───────────────────┼────────────┼───────────────────┤\n",
       "│ dense_42 (<span style=\"color: #0087ff; text-decoration-color: #0087ff\">Dense</span>)    │ (<span style=\"color: #00d7ff; text-decoration-color: #00d7ff\">None</span>, <span style=\"color: #00af00; text-decoration-color: #00af00\">64</span>)        │      <span style=\"color: #00af00; text-decoration-color: #00af00\">4,160</span> │ cnn_img_feat[<span style=\"color: #00af00; text-decoration-color: #00af00\">0</span>][<span style=\"color: #00af00; text-decoration-color: #00af00\">…</span> │\n",
       "├─────────────────────┼───────────────────┼────────────┼───────────────────┤\n",
       "│ dense_43 (<span style=\"color: #0087ff; text-decoration-color: #0087ff\">Dense</span>)    │ (<span style=\"color: #00d7ff; text-decoration-color: #00d7ff\">None</span>, <span style=\"color: #00af00; text-decoration-color: #00af00\">64</span>)        │     <span style=\"color: #00af00; text-decoration-color: #00af00\">37,568</span> │ meta_input[<span style=\"color: #00af00; text-decoration-color: #00af00\">0</span>][<span style=\"color: #00af00; text-decoration-color: #00af00\">0</span>]  │\n",
       "├─────────────────────┼───────────────────┼────────────┼───────────────────┤\n",
       "│ dense_44 (<span style=\"color: #0087ff; text-decoration-color: #0087ff\">Dense</span>)    │ (<span style=\"color: #00d7ff; text-decoration-color: #00d7ff\">None</span>, <span style=\"color: #00af00; text-decoration-color: #00af00\">64</span>)        │     <span style=\"color: #00af00; text-decoration-color: #00af00\">22,720</span> │ text_input[<span style=\"color: #00af00; text-decoration-color: #00af00\">0</span>][<span style=\"color: #00af00; text-decoration-color: #00af00\">0</span>]  │\n",
       "├─────────────────────┼───────────────────┼────────────┼───────────────────┤\n",
       "│ concatenate_3       │ (<span style=\"color: #00d7ff; text-decoration-color: #00d7ff\">None</span>, <span style=\"color: #00af00; text-decoration-color: #00af00\">192</span>)       │          <span style=\"color: #00af00; text-decoration-color: #00af00\">0</span> │ dense_42[<span style=\"color: #00af00; text-decoration-color: #00af00\">0</span>][<span style=\"color: #00af00; text-decoration-color: #00af00\">0</span>],   │\n",
       "│ (<span style=\"color: #0087ff; text-decoration-color: #0087ff\">Concatenate</span>)       │                   │            │ dense_43[<span style=\"color: #00af00; text-decoration-color: #00af00\">0</span>][<span style=\"color: #00af00; text-decoration-color: #00af00\">0</span>],   │\n",
       "│                     │                   │            │ dense_44[<span style=\"color: #00af00; text-decoration-color: #00af00\">0</span>][<span style=\"color: #00af00; text-decoration-color: #00af00\">0</span>]    │\n",
       "├─────────────────────┼───────────────────┼────────────┼───────────────────┤\n",
       "│ lambda_6 (<span style=\"color: #0087ff; text-decoration-color: #0087ff\">Lambda</span>)   │ (<span style=\"color: #00d7ff; text-decoration-color: #00d7ff\">None</span>, <span style=\"color: #00af00; text-decoration-color: #00af00\">1</span>, <span style=\"color: #00af00; text-decoration-color: #00af00\">192</span>)    │          <span style=\"color: #00af00; text-decoration-color: #00af00\">0</span> │ concatenate_3[<span style=\"color: #00af00; text-decoration-color: #00af00\">0</span>]… │\n",
       "├─────────────────────┼───────────────────┼────────────┼───────────────────┤\n",
       "│ transformer_block_6 │ (<span style=\"color: #00d7ff; text-decoration-color: #00d7ff\">None</span>, <span style=\"color: #00af00; text-decoration-color: #00af00\">1</span>, <span style=\"color: #00af00; text-decoration-color: #00af00\">192</span>)    │    <span style=\"color: #00af00; text-decoration-color: #00af00\">691,840</span> │ lambda_6[<span style=\"color: #00af00; text-decoration-color: #00af00\">0</span>][<span style=\"color: #00af00; text-decoration-color: #00af00\">0</span>]    │\n",
       "│ (<span style=\"color: #0087ff; text-decoration-color: #0087ff\">TransformerBlock</span>)  │                   │            │                   │\n",
       "├─────────────────────┼───────────────────┼────────────┼───────────────────┤\n",
       "│ global_average_poo… │ (<span style=\"color: #00d7ff; text-decoration-color: #00d7ff\">None</span>, <span style=\"color: #00af00; text-decoration-color: #00af00\">192</span>)       │          <span style=\"color: #00af00; text-decoration-color: #00af00\">0</span> │ transformer_bloc… │\n",
       "│ (<span style=\"color: #0087ff; text-decoration-color: #0087ff\">GlobalAveragePool…</span> │                   │            │                   │\n",
       "├─────────────────────┼───────────────────┼────────────┼───────────────────┤\n",
       "│ dense_47 (<span style=\"color: #0087ff; text-decoration-color: #0087ff\">Dense</span>)    │ (<span style=\"color: #00d7ff; text-decoration-color: #00d7ff\">None</span>, <span style=\"color: #00af00; text-decoration-color: #00af00\">128</span>)       │     <span style=\"color: #00af00; text-decoration-color: #00af00\">24,704</span> │ global_average_p… │\n",
       "├─────────────────────┼───────────────────┼────────────┼───────────────────┤\n",
       "│ dropout_33          │ (<span style=\"color: #00d7ff; text-decoration-color: #00d7ff\">None</span>, <span style=\"color: #00af00; text-decoration-color: #00af00\">128</span>)       │          <span style=\"color: #00af00; text-decoration-color: #00af00\">0</span> │ dense_47[<span style=\"color: #00af00; text-decoration-color: #00af00\">0</span>][<span style=\"color: #00af00; text-decoration-color: #00af00\">0</span>]    │\n",
       "│ (<span style=\"color: #0087ff; text-decoration-color: #0087ff\">Dropout</span>)           │                   │            │                   │\n",
       "├─────────────────────┼───────────────────┼────────────┼───────────────────┤\n",
       "│ dense_48 (<span style=\"color: #0087ff; text-decoration-color: #0087ff\">Dense</span>)    │ (<span style=\"color: #00d7ff; text-decoration-color: #00d7ff\">None</span>, <span style=\"color: #00af00; text-decoration-color: #00af00\">64</span>)        │      <span style=\"color: #00af00; text-decoration-color: #00af00\">8,256</span> │ dropout_33[<span style=\"color: #00af00; text-decoration-color: #00af00\">0</span>][<span style=\"color: #00af00; text-decoration-color: #00af00\">0</span>]  │\n",
       "├─────────────────────┼───────────────────┼────────────┼───────────────────┤\n",
       "│ dropout_34          │ (<span style=\"color: #00d7ff; text-decoration-color: #00d7ff\">None</span>, <span style=\"color: #00af00; text-decoration-color: #00af00\">64</span>)        │          <span style=\"color: #00af00; text-decoration-color: #00af00\">0</span> │ dense_48[<span style=\"color: #00af00; text-decoration-color: #00af00\">0</span>][<span style=\"color: #00af00; text-decoration-color: #00af00\">0</span>]    │\n",
       "│ (<span style=\"color: #0087ff; text-decoration-color: #0087ff\">Dropout</span>)           │                   │            │                   │\n",
       "├─────────────────────┼───────────────────┼────────────┼───────────────────┤\n",
       "│ dense_49 (<span style=\"color: #0087ff; text-decoration-color: #0087ff\">Dense</span>)    │ (<span style=\"color: #00d7ff; text-decoration-color: #00d7ff\">None</span>, <span style=\"color: #00af00; text-decoration-color: #00af00\">3</span>)         │        <span style=\"color: #00af00; text-decoration-color: #00af00\">195</span> │ dropout_34[<span style=\"color: #00af00; text-decoration-color: #00af00\">0</span>][<span style=\"color: #00af00; text-decoration-color: #00af00\">0</span>]  │\n",
       "└─────────────────────┴───────────────────┴────────────┴───────────────────┘\n",
       "</pre>\n"
      ],
      "text/plain": [
       "┏━━━━━━━━━━━━━━━━━━━━━┳━━━━━━━━━━━━━━━━━━━┳━━━━━━━━━━━━┳━━━━━━━━━━━━━━━━━━━┓\n",
       "┃\u001b[1m \u001b[0m\u001b[1mLayer (type)       \u001b[0m\u001b[1m \u001b[0m┃\u001b[1m \u001b[0m\u001b[1mOutput Shape     \u001b[0m\u001b[1m \u001b[0m┃\u001b[1m \u001b[0m\u001b[1m   Param #\u001b[0m\u001b[1m \u001b[0m┃\u001b[1m \u001b[0m\u001b[1mConnected to     \u001b[0m\u001b[1m \u001b[0m┃\n",
       "┡━━━━━━━━━━━━━━━━━━━━━╇━━━━━━━━━━━━━━━━━━━╇━━━━━━━━━━━━╇━━━━━━━━━━━━━━━━━━━┩\n",
       "│ cnn_img_feat        │ (\u001b[38;5;45mNone\u001b[0m, \u001b[38;5;34m64\u001b[0m)        │          \u001b[38;5;34m0\u001b[0m │ -                 │\n",
       "│ (\u001b[38;5;33mInputLayer\u001b[0m)        │                   │            │                   │\n",
       "├─────────────────────┼───────────────────┼────────────┼───────────────────┤\n",
       "│ meta_input          │ (\u001b[38;5;45mNone\u001b[0m, \u001b[38;5;34m586\u001b[0m)       │          \u001b[38;5;34m0\u001b[0m │ -                 │\n",
       "│ (\u001b[38;5;33mInputLayer\u001b[0m)        │                   │            │                   │\n",
       "├─────────────────────┼───────────────────┼────────────┼───────────────────┤\n",
       "│ text_input          │ (\u001b[38;5;45mNone\u001b[0m, \u001b[38;5;34m354\u001b[0m)       │          \u001b[38;5;34m0\u001b[0m │ -                 │\n",
       "│ (\u001b[38;5;33mInputLayer\u001b[0m)        │                   │            │                   │\n",
       "├─────────────────────┼───────────────────┼────────────┼───────────────────┤\n",
       "│ dense_42 (\u001b[38;5;33mDense\u001b[0m)    │ (\u001b[38;5;45mNone\u001b[0m, \u001b[38;5;34m64\u001b[0m)        │      \u001b[38;5;34m4,160\u001b[0m │ cnn_img_feat[\u001b[38;5;34m0\u001b[0m][\u001b[38;5;34m…\u001b[0m │\n",
       "├─────────────────────┼───────────────────┼────────────┼───────────────────┤\n",
       "│ dense_43 (\u001b[38;5;33mDense\u001b[0m)    │ (\u001b[38;5;45mNone\u001b[0m, \u001b[38;5;34m64\u001b[0m)        │     \u001b[38;5;34m37,568\u001b[0m │ meta_input[\u001b[38;5;34m0\u001b[0m][\u001b[38;5;34m0\u001b[0m]  │\n",
       "├─────────────────────┼───────────────────┼────────────┼───────────────────┤\n",
       "│ dense_44 (\u001b[38;5;33mDense\u001b[0m)    │ (\u001b[38;5;45mNone\u001b[0m, \u001b[38;5;34m64\u001b[0m)        │     \u001b[38;5;34m22,720\u001b[0m │ text_input[\u001b[38;5;34m0\u001b[0m][\u001b[38;5;34m0\u001b[0m]  │\n",
       "├─────────────────────┼───────────────────┼────────────┼───────────────────┤\n",
       "│ concatenate_3       │ (\u001b[38;5;45mNone\u001b[0m, \u001b[38;5;34m192\u001b[0m)       │          \u001b[38;5;34m0\u001b[0m │ dense_42[\u001b[38;5;34m0\u001b[0m][\u001b[38;5;34m0\u001b[0m],   │\n",
       "│ (\u001b[38;5;33mConcatenate\u001b[0m)       │                   │            │ dense_43[\u001b[38;5;34m0\u001b[0m][\u001b[38;5;34m0\u001b[0m],   │\n",
       "│                     │                   │            │ dense_44[\u001b[38;5;34m0\u001b[0m][\u001b[38;5;34m0\u001b[0m]    │\n",
       "├─────────────────────┼───────────────────┼────────────┼───────────────────┤\n",
       "│ lambda_6 (\u001b[38;5;33mLambda\u001b[0m)   │ (\u001b[38;5;45mNone\u001b[0m, \u001b[38;5;34m1\u001b[0m, \u001b[38;5;34m192\u001b[0m)    │          \u001b[38;5;34m0\u001b[0m │ concatenate_3[\u001b[38;5;34m0\u001b[0m]… │\n",
       "├─────────────────────┼───────────────────┼────────────┼───────────────────┤\n",
       "│ transformer_block_6 │ (\u001b[38;5;45mNone\u001b[0m, \u001b[38;5;34m1\u001b[0m, \u001b[38;5;34m192\u001b[0m)    │    \u001b[38;5;34m691,840\u001b[0m │ lambda_6[\u001b[38;5;34m0\u001b[0m][\u001b[38;5;34m0\u001b[0m]    │\n",
       "│ (\u001b[38;5;33mTransformerBlock\u001b[0m)  │                   │            │                   │\n",
       "├─────────────────────┼───────────────────┼────────────┼───────────────────┤\n",
       "│ global_average_poo… │ (\u001b[38;5;45mNone\u001b[0m, \u001b[38;5;34m192\u001b[0m)       │          \u001b[38;5;34m0\u001b[0m │ transformer_bloc… │\n",
       "│ (\u001b[38;5;33mGlobalAveragePool…\u001b[0m │                   │            │                   │\n",
       "├─────────────────────┼───────────────────┼────────────┼───────────────────┤\n",
       "│ dense_47 (\u001b[38;5;33mDense\u001b[0m)    │ (\u001b[38;5;45mNone\u001b[0m, \u001b[38;5;34m128\u001b[0m)       │     \u001b[38;5;34m24,704\u001b[0m │ global_average_p… │\n",
       "├─────────────────────┼───────────────────┼────────────┼───────────────────┤\n",
       "│ dropout_33          │ (\u001b[38;5;45mNone\u001b[0m, \u001b[38;5;34m128\u001b[0m)       │          \u001b[38;5;34m0\u001b[0m │ dense_47[\u001b[38;5;34m0\u001b[0m][\u001b[38;5;34m0\u001b[0m]    │\n",
       "│ (\u001b[38;5;33mDropout\u001b[0m)           │                   │            │                   │\n",
       "├─────────────────────┼───────────────────┼────────────┼───────────────────┤\n",
       "│ dense_48 (\u001b[38;5;33mDense\u001b[0m)    │ (\u001b[38;5;45mNone\u001b[0m, \u001b[38;5;34m64\u001b[0m)        │      \u001b[38;5;34m8,256\u001b[0m │ dropout_33[\u001b[38;5;34m0\u001b[0m][\u001b[38;5;34m0\u001b[0m]  │\n",
       "├─────────────────────┼───────────────────┼────────────┼───────────────────┤\n",
       "│ dropout_34          │ (\u001b[38;5;45mNone\u001b[0m, \u001b[38;5;34m64\u001b[0m)        │          \u001b[38;5;34m0\u001b[0m │ dense_48[\u001b[38;5;34m0\u001b[0m][\u001b[38;5;34m0\u001b[0m]    │\n",
       "│ (\u001b[38;5;33mDropout\u001b[0m)           │                   │            │                   │\n",
       "├─────────────────────┼───────────────────┼────────────┼───────────────────┤\n",
       "│ dense_49 (\u001b[38;5;33mDense\u001b[0m)    │ (\u001b[38;5;45mNone\u001b[0m, \u001b[38;5;34m3\u001b[0m)         │        \u001b[38;5;34m195\u001b[0m │ dropout_34[\u001b[38;5;34m0\u001b[0m][\u001b[38;5;34m0\u001b[0m]  │\n",
       "└─────────────────────┴───────────────────┴────────────┴───────────────────┘\n"
      ]
     },
     "metadata": {},
     "output_type": "display_data"
    },
    {
     "data": {
      "text/html": [
       "<pre style=\"white-space:pre;overflow-x:auto;line-height:normal;font-family:Menlo,'DejaVu Sans Mono',consolas,'Courier New',monospace\"><span style=\"font-weight: bold\"> Total params: </span><span style=\"color: #00af00; text-decoration-color: #00af00\">789,443</span> (3.01 MB)\n",
       "</pre>\n"
      ],
      "text/plain": [
       "\u001b[1m Total params: \u001b[0m\u001b[38;5;34m789,443\u001b[0m (3.01 MB)\n"
      ]
     },
     "metadata": {},
     "output_type": "display_data"
    },
    {
     "data": {
      "text/html": [
       "<pre style=\"white-space:pre;overflow-x:auto;line-height:normal;font-family:Menlo,'DejaVu Sans Mono',consolas,'Courier New',monospace\"><span style=\"font-weight: bold\"> Trainable params: </span><span style=\"color: #00af00; text-decoration-color: #00af00\">789,443</span> (3.01 MB)\n",
       "</pre>\n"
      ],
      "text/plain": [
       "\u001b[1m Trainable params: \u001b[0m\u001b[38;5;34m789,443\u001b[0m (3.01 MB)\n"
      ]
     },
     "metadata": {},
     "output_type": "display_data"
    },
    {
     "data": {
      "text/html": [
       "<pre style=\"white-space:pre;overflow-x:auto;line-height:normal;font-family:Menlo,'DejaVu Sans Mono',consolas,'Courier New',monospace\"><span style=\"font-weight: bold\"> Non-trainable params: </span><span style=\"color: #00af00; text-decoration-color: #00af00\">0</span> (0.00 B)\n",
       "</pre>\n"
      ],
      "text/plain": [
       "\u001b[1m Non-trainable params: \u001b[0m\u001b[38;5;34m0\u001b[0m (0.00 B)\n"
      ]
     },
     "metadata": {},
     "output_type": "display_data"
    }
   ],
   "source": [
    "# Inputs multimodaux\n",
    "img_feat_input = Input(shape=(64,), name='cnn_img_feat')\n",
    "meta_input = Input(shape=(X_meta_train.shape[1],), name='meta_input')\n",
    "text_input = Input(shape=(X_txt_train.shape[1],), name='text_input')\n",
    "\n",
    "# Embedding\n",
    "x_img = Dense(64, activation='relu')(img_feat_input)\n",
    "x_meta = Dense(64, activation='relu')(meta_input)\n",
    "x_text = Dense(64, activation='relu')(text_input)\n",
    "\n",
    "# Concat et Transformer\n",
    "x = Concatenate(axis=-1)([x_img, x_meta, x_text])  # (batch, 192)\n",
    "x = Lambda(lambda x: tf.expand_dims(x, axis=1))(x)  # (batch, 1, 192)\n",
    "x = TransformerBlock(embed_dim=192, num_heads=4, ff_dim=256)(x)\n",
    "x = GlobalAveragePooling1D()(x)\n",
    "\n",
    "# Classification finale\n",
    "x = Dense(128, activation='relu')(x)\n",
    "x = Dropout(0.3)(x)\n",
    "x = Dense(64, activation='relu')(x)\n",
    "x = Dropout(0.2)(x)\n",
    "output = Dense(len(label_names), activation='softmax')(x)\n",
    "\n",
    "model_phase2 = Model(inputs=[img_feat_input, meta_input, text_input], outputs=output)\n",
    "model_phase2.compile(optimizer='adam', loss='categorical_crossentropy', metrics=['accuracy'])\n",
    "model_phase2.summary()\n"
   ]
  },
  {
   "cell_type": "code",
   "execution_count": 69,
   "metadata": {},
   "outputs": [
    {
     "name": "stdout",
     "output_type": "stream",
     "text": [
      "Epoch 1/50\n",
      "\u001b[1m15/15\u001b[0m \u001b[32m━━━━━━━━━━━━━━━━━━━━\u001b[0m\u001b[37m\u001b[0m \u001b[1m2s\u001b[0m 25ms/step - accuracy: 0.3355 - loss: 1.4443 - val_accuracy: 0.5172 - val_loss: 1.1069\n",
      "Epoch 2/50\n",
      "\u001b[1m15/15\u001b[0m \u001b[32m━━━━━━━━━━━━━━━━━━━━\u001b[0m\u001b[37m\u001b[0m \u001b[1m0s\u001b[0m 14ms/step - accuracy: 0.2877 - loss: 1.2057 - val_accuracy: 0.2931 - val_loss: 1.1338\n",
      "Epoch 3/50\n",
      "\u001b[1m15/15\u001b[0m \u001b[32m━━━━━━━━━━━━━━━━━━━━\u001b[0m\u001b[37m\u001b[0m \u001b[1m0s\u001b[0m 15ms/step - accuracy: 0.3940 - loss: 1.1136 - val_accuracy: 0.4655 - val_loss: 1.0451\n",
      "Epoch 4/50\n",
      "\u001b[1m15/15\u001b[0m \u001b[32m━━━━━━━━━━━━━━━━━━━━\u001b[0m\u001b[37m\u001b[0m \u001b[1m0s\u001b[0m 15ms/step - accuracy: 0.4452 - loss: 1.1410 - val_accuracy: 0.5345 - val_loss: 0.9427\n",
      "Epoch 5/50\n",
      "\u001b[1m15/15\u001b[0m \u001b[32m━━━━━━━━━━━━━━━━━━━━\u001b[0m\u001b[37m\u001b[0m \u001b[1m0s\u001b[0m 16ms/step - accuracy: 0.4613 - loss: 1.0736 - val_accuracy: 0.6207 - val_loss: 0.8843\n",
      "Epoch 6/50\n",
      "\u001b[1m15/15\u001b[0m \u001b[32m━━━━━━━━━━━━━━━━━━━━\u001b[0m\u001b[37m\u001b[0m \u001b[1m0s\u001b[0m 19ms/step - accuracy: 0.5536 - loss: 0.9970 - val_accuracy: 0.5517 - val_loss: 0.9728\n",
      "Epoch 7/50\n",
      "\u001b[1m15/15\u001b[0m \u001b[32m━━━━━━━━━━━━━━━━━━━━\u001b[0m\u001b[37m\u001b[0m \u001b[1m0s\u001b[0m 18ms/step - accuracy: 0.5846 - loss: 0.9008 - val_accuracy: 0.6207 - val_loss: 0.8820\n",
      "Epoch 8/50\n",
      "\u001b[1m15/15\u001b[0m \u001b[32m━━━━━━━━━━━━━━━━━━━━\u001b[0m\u001b[37m\u001b[0m \u001b[1m0s\u001b[0m 15ms/step - accuracy: 0.6983 - loss: 0.7471 - val_accuracy: 0.6379 - val_loss: 0.9147\n",
      "Epoch 9/50\n",
      "\u001b[1m15/15\u001b[0m \u001b[32m━━━━━━━━━━━━━━━━━━━━\u001b[0m\u001b[37m\u001b[0m \u001b[1m0s\u001b[0m 16ms/step - accuracy: 0.7479 - loss: 0.6380 - val_accuracy: 0.6034 - val_loss: 1.1571\n",
      "Epoch 10/50\n",
      "\u001b[1m15/15\u001b[0m \u001b[32m━━━━━━━━━━━━━━━━━━━━\u001b[0m\u001b[37m\u001b[0m \u001b[1m0s\u001b[0m 18ms/step - accuracy: 0.7799 - loss: 0.5234 - val_accuracy: 0.3966 - val_loss: 1.2896\n",
      "Epoch 11/50\n",
      "\u001b[1m15/15\u001b[0m \u001b[32m━━━━━━━━━━━━━━━━━━━━\u001b[0m\u001b[37m\u001b[0m \u001b[1m0s\u001b[0m 13ms/step - accuracy: 0.8450 - loss: 0.4388 - val_accuracy: 0.6379 - val_loss: 1.5156\n"
     ]
    }
   ],
   "source": [
    "from tensorflow.keras.callbacks import EarlyStopping\n",
    "\n",
    "early_stopping = EarlyStopping(\n",
    "    monitor='val_accuracy',  # or 'val_accuracy'\n",
    "    patience=3,          # stop after 3 epochs without improvement\n",
    "    restore_best_weights=True\n",
    ")\n",
    "\n",
    "history_phase2 = model_phase2.fit(\n",
    "    [X_img_train_feats, X_meta_train, X_txt_train], y_train,\n",
    "    validation_data=([X_img_val_feats, X_meta_val, X_txt_val], y_val),\n",
    "    epochs=50,  # large max value, early stopping will halt sooner\n",
    "    batch_size=16,\n",
    "    class_weight=class_weight_dict,\n",
    "    callbacks=[early_stopping]\n",
    ")\n"
   ]
  },
  {
   "cell_type": "code",
   "execution_count": 65,
   "metadata": {},
   "outputs": [],
   "source": [
    "def create_finetune_cnn_encoder(trainable=True):\n",
    "    base_model = DenseNet121(\n",
    "        include_top=False,\n",
    "        weights=None,\n",
    "        input_shape=(224, 224, 3)\n",
    "    )\n",
    "    base_model.load_weights(\"weights/RadImageNet-DenseNet121_notop.h5\")\n",
    "    base_model.trainable = trainable  # ❗️ Débloqué pour fine-tuning\n",
    "\n",
    "    inputs = Input(shape=(224, 224, 1), name=\"img_input_gray\")\n",
    "    x = Lambda(lambda img: tf.image.grayscale_to_rgb(img))(inputs)\n",
    "    x = preprocess_input(x)\n",
    "    x = base_model(x, training=trainable)\n",
    "    x = GlobalAveragePooling2D()(x)\n",
    "    x = Dense(64, activation='relu')(x)\n",
    "    return Model(inputs, x, name=\"finetune_cnn_encoder\")\n"
   ]
  },
  {
   "cell_type": "code",
   "execution_count": 61,
   "metadata": {},
   "outputs": [],
   "source": [
    "# # --- Modèle multimodal complet (Phase 3)\n",
    "# img_seq_input = Input(shape=(8, 224, 224, 1), name='img_seq_input')\n",
    "# meta_input = Input(shape=(X_meta_train.shape[1],), name='meta_input')\n",
    "# text_input = Input(shape=(X_txt_train.shape[1],), name='text_input')\n",
    "\n",
    "# cnn_encoder_finetune = create_finetune_cnn_encoder()\n",
    "# x_img_seq = TimeDistributed(cnn_encoder_finetune)(img_seq_input)\n",
    "# x_img_seq = TransformerBlock(embed_dim=64, num_heads=4, ff_dim=128)(x_img_seq)\n",
    "# x_img_seq = GlobalAveragePooling1D()(x_img_seq)\n",
    "\n",
    "# x_meta = Dense(64, activation='relu')(meta_input)\n",
    "# x_text = Dense(64, activation='relu')(text_input)\n",
    "\n",
    "# x = Concatenate()([x_img_seq, x_meta, x_text])\n",
    "# x = Lambda(lambda x: tf.expand_dims(x, axis=1))(x)\n",
    "# x = TransformerBlock(embed_dim=192, num_heads=4, ff_dim=256)(x)\n",
    "# x = GlobalAveragePooling1D()(x)\n",
    "\n",
    "# x = Dense(128, activation='relu')(x)\n",
    "# x = Dropout(0.3)(x)\n",
    "# x = Dense(64, activation='relu')(x)\n",
    "# x = Dropout(0.2)(x)\n",
    "# output = Dense(len(label_names), activation='softmax')(x)\n",
    "\n",
    "# model_phase3 = Model(inputs=[img_seq_input, meta_input, text_input], outputs=output)\n",
    "# model_phase3.compile(\n",
    "#     optimizer=tf.keras.optimizers.Adam(1e-6),\n",
    "#     loss='categorical_crossentropy',\n",
    "#     metrics=['accuracy']\n",
    "# )\n",
    "\n",
    "# model_phase3.summary()\n",
    "\n"
   ]
  },
  {
   "cell_type": "code",
   "execution_count": 70,
   "metadata": {},
   "outputs": [
    {
     "name": "stdout",
     "output_type": "stream",
     "text": [
      "\u001b[1m2/2\u001b[0m \u001b[32m━━━━━━━━━━━━━━━━━━━━\u001b[0m\u001b[37m\u001b[0m \u001b[1m0s\u001b[0m 98ms/step\n",
      "              precision    recall  f1-score   support\n",
      "\n",
      "   Malignant       0.20      0.17      0.18         6\n",
      "      Normal       0.65      0.85      0.73        13\n",
      "      Benign       0.73      0.57      0.64        14\n",
      "\n",
      "    accuracy                           0.61        33\n",
      "   macro avg       0.52      0.53      0.52        33\n",
      "weighted avg       0.60      0.61      0.59        33\n",
      "\n",
      "F1-score: 0.5934618916437099\n",
      "Accuracy: 0.6060606060606061\n",
      "ROC AUC: [0.67283951 0.75384615 0.7406015 ]\n"
     ]
    },
    {
     "data": {
      "image/png": "[encoded data removed]",
      "text/plain": [
       "<Figure size 640x480 with 2 Axes>"
      ]
     },
     "metadata": {},
     "output_type": "display_data"
    }
   ],
   "source": [
    "\n",
    "# --- Évaluation sur test\n",
    "# Prédictions\n",
    "from sklearn.metrics import classification_report, confusion_matrix, f1_score, accuracy_score\n",
    "import seaborn as sns\n",
    "import matplotlib.pyplot as plt\n",
    "import numpy as np\n",
    "from sklearn.metrics import classification_report, f1_score, accuracy_score, roc_auc_score, confusion_matrix, ConfusionMatrixDisplay\n",
    "\n",
    "# Prédictions\n",
    "y_pred_phase2 = model_phase2.predict([X_img_test_feats, X_meta_test, X_txt_test])\n",
    "y_pred_classes = np.argmax(y_pred_phase2, axis=1)\n",
    "y_true_classes = np.argmax(y_test, axis=1)\n",
    "\n",
    "# Scores\n",
    "print(classification_report(y_true_classes, y_pred_classes, target_names=label_names))\n",
    "print(\"F1-score:\", f1_score(y_true_classes, y_pred_classes, average='weighted'))\n",
    "print(\"Accuracy:\", accuracy_score(y_true_classes, y_pred_classes))\n",
    "\n",
    "# ROC AUC\n",
    "print(\"ROC AUC:\", roc_auc_score(y_test, y_pred_phase2, average=None, multi_class='ovr'))\n",
    "\n",
    "# Matrice de confusion\n",
    "cm = confusion_matrix(y_true_classes, y_pred_classes)\n",
    "ConfusionMatrixDisplay(cm, display_labels=label_names).plot(cmap='Blues')\n",
    "plt.title(\"Confusion Matrix - Multimodal Transformer\")\n",
    "plt.show()\n"
   ]
  },
  {
   "cell_type": "code",
   "execution_count": 71,
   "metadata": {},
   "outputs": [
    {
     "data": {
      "image/png": "[encoded data removed]",
      "text/plain": [
       "<Figure size 1400x500 with 2 Axes>"
      ]
     },
     "metadata": {},
     "output_type": "display_data"
    }
   ],
   "source": [
    "import matplotlib.pyplot as plt\n",
    "\n",
    "def plot_training_history(history, title=\"Training History\"):\n",
    "    acc = history.history['accuracy']\n",
    "    val_acc = history.history['val_accuracy']\n",
    "    loss = history.history['loss']\n",
    "    val_loss = history.history['val_loss']\n",
    "    epochs_range = range(len(acc))\n",
    "\n",
    "    plt.figure(figsize=(14, 5))\n",
    "\n",
    "    # Accuracy\n",
    "    plt.subplot(1, 2, 1)\n",
    "    plt.plot(epochs_range, acc, label='Training Accuracy')\n",
    "    plt.plot(epochs_range, val_acc, label='Validation Accuracy')\n",
    "    plt.legend(loc='lower right')\n",
    "    plt.title(f'{title} - Accuracy')\n",
    "\n",
    "    # Loss\n",
    "    plt.subplot(1, 2, 2)\n",
    "    plt.plot(epochs_range, loss, label='Training Loss')\n",
    "    plt.plot(epochs_range, val_loss, label='Validation Loss')\n",
    "    plt.legend(loc='upper right')\n",
    "    plt.title(f'{title} - Loss')\n",
    "\n",
    "    plt.show()\n",
    "\n",
    "# Appel pour phase 2\n",
    "# plot_training_history(history_phase1, title=\"CNN Phase 1\")\n",
    "plot_training_history(history_phase2, title=\"Multimodal Phase 2\")\n",
    "\n"
   ]
  }
 ],
 "metadata": {
  "kernelspec": {
   "display_name": "pytorch",
   "language": "python",
   "name": "python3"
  },
  "language_info": {
   "codemirror_mode": {
    "name": "ipython",
    "version": 3
   },
   "file_extension": ".py",
   "mimetype": "text/x-python",
   "name": "python",
   "nbconvert_exporter": "python",
   "pygments_lexer": "ipython3",
   "version": "3.10.18"
  }
 },
 "nbformat": 4,
 "nbformat_minor": 2
}
