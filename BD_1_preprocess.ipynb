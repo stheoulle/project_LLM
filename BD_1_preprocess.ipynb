{
 "cells": [
  {
   "cell_type": "code",
   "execution_count": 6,
   "metadata": {},
   "outputs": [
    {
     "name": "stdout",
     "output_type": "stream",
     "text": [
      "Extracted 491 unique MRI protocols. Saved to mri_protocols.txt\n"
     ]
    }
   ],
   "source": [
    "import os\n",
    "import re\n",
    "\n",
    "# Path to your main folder\n",
    "root_dir = \"Breast-diagnosis/manifest-BbshIhaG7188578559074019493/BREAST-DIAGNOSIS\"\n",
    "\n",
    "# Keywords to identify MRI protocols\n",
    "MRI_KEYWORDS = [\"MRI\", \"T2\", \"STIR\", \"BLISS\", \"AX\", \"SENSE\", \"NA\"]\n",
    "\n",
    "# Store unique MRI protocol names\n",
    "mri_protocols = set()\n",
    "\n",
    "# Walk through all directories and files\n",
    "for dirpath, dirnames, filenames in os.walk(root_dir):\n",
    "    for name in dirnames + filenames:\n",
    "        name_upper = name.upper()\n",
    "\n",
    "        if any(keyword in name_upper for keyword in MRI_KEYWORDS):\n",
    "            # Remove leading date pattern like 04-12-2008- or 11-25-2008-\n",
    "            cleaned_name = re.sub(r\"^\\d{2}-\\d{2}-\\d{4}-\", \"\", name_upper)\n",
    "\n",
    "            # Optionally normalize further: remove special characters (keep alphanumerics and dash/underscore)\n",
    "            cleaned_name = ''.join(c for c in cleaned_name if c.isalnum() or c in \"-_ \")\n",
    "\n",
    "            mri_protocols.add(cleaned_name.strip())\n",
    "\n",
    "# Sort and write to file\n",
    "output_path = \"mri_protocols.txt\"\n",
    "with open(output_path, \"w\") as f:\n",
    "    for protocol in sorted(mri_protocols):\n",
    "        f.write(protocol + \"\\n\")\n",
    "\n",
    "print(f\"Extracted {len(mri_protocols)} unique MRI protocols. Saved to {output_path}\")\n",
    "\n"
   ]
  },
  {
   "cell_type": "code",
   "execution_count": 7,
   "metadata": {},
   "outputs": [
    {
     "name": "stdout",
     "output_type": "stream",
     "text": [
      "\n",
      "✅ Total unique MRI protocols found: 491\n",
      "\n",
      "📊 Keyword Occurrence Counts:\n",
      "  MRI: 114\n",
      "  T2: 120\n",
      "  STIR: 108\n",
      "  BLISS: 119\n",
      "  AX: 136\n",
      "  SENSE: 317\n",
      "  NA: 152\n"
     ]
    }
   ],
   "source": [
    "import os\n",
    "import re\n",
    "from collections import defaultdict\n",
    "\n",
    "# Path to your main folder\n",
    "root_dir = \"Breast-diagnosis/manifest-BbshIhaG7188578559074019493/BREAST-DIAGNOSIS\"\n",
    "\n",
    "# Keywords to identify MRI protocols\n",
    "MRI_KEYWORDS = [\"MRI\", \"T2\", \"STIR\", \"BLISS\", \"AX\", \"SENSE\", \"NA\"]\n",
    "\n",
    "# Store unique MRI protocol names\n",
    "mri_protocols = set()\n",
    "\n",
    "# Count each keyword occurrence\n",
    "keyword_counts = defaultdict(int)\n",
    "\n",
    "# Walk through all directories and files\n",
    "for dirpath, dirnames, filenames in os.walk(root_dir):\n",
    "    for name in dirnames + filenames:\n",
    "        name_upper = name.upper()\n",
    "\n",
    "        if any(keyword in name_upper for keyword in MRI_KEYWORDS):\n",
    "            # Remove leading date like 04-12-2008-\n",
    "            cleaned_name = re.sub(r\"^\\d{2}-\\d{2}-\\d{4}-\", \"\", name_upper)\n",
    "\n",
    "            # Normalize name: keep alphanumerics, dashes, underscores and spaces\n",
    "            cleaned_name = ''.join(c for c in cleaned_name if c.isalnum() or c in \"-_ \")\n",
    "\n",
    "            # Add cleaned name to the set (deduplicated)\n",
    "            mri_protocols.add(cleaned_name.strip())\n",
    "\n",
    "            # Count each keyword in the name\n",
    "            for keyword in MRI_KEYWORDS:\n",
    "                if keyword in name_upper:\n",
    "                    keyword_counts[keyword] += 1\n",
    "\n",
    "# Sort and write to file\n",
    "output_path = \"mri_protocols.txt\"\n",
    "with open(output_path, \"w\") as f:\n",
    "    for protocol in sorted(mri_protocols):\n",
    "        f.write(protocol + \"\\n\")\n",
    "\n",
    "# Print results\n",
    "print(f\"\\n✅ Total unique MRI protocols found: {len(mri_protocols)}\\n\")\n",
    "\n",
    "print(\"📊 Keyword Occurrence Counts:\")\n",
    "for keyword in MRI_KEYWORDS:\n",
    "    print(f\"  {keyword}: {keyword_counts[keyword]}\")\n"
   ]
  }
 ],
 "metadata": {
  "kernelspec": {
   "display_name": "pytorch",
   "language": "python",
   "name": "python3"
  },
  "language_info": {
   "codemirror_mode": {
    "name": "ipython",
    "version": 3
   },
   "file_extension": ".py",
   "mimetype": "text/x-python",
   "name": "python",
   "nbconvert_exporter": "python",
   "pygments_lexer": "ipython3",
   "version": "3.10.18"
  }
 },
 "nbformat": 4,
 "nbformat_minor": 2
}
