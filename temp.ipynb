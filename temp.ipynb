{
 "cells": [
  {
   "cell_type": "code",
   "execution_count": 3,
   "metadata": {},
   "outputs": [
    {
     "name": "stdout",
     "output_type": "stream",
     "text": [
      "Iw3kXe_4bZE-ymhwD8broaIR4dQi-V3kULSdk_r43DU=\n",
      "0aK_paEzZ1rtP-0-ETf-HiApM5PFkpYGMSbr8eDDyag=\n",
      "8lJmZQNLssb83kbZefEr_uvxP8Cl3ubQ40SRtRnt9As=\n"
     ]
    }
   ],
   "source": [
    "from cryptography.fernet import Fernet\n",
    "\n",
    "key = Fernet.generate_key()\n",
    "print(key.decode())\n",
    "key = Fernet.generate_key()\n",
    "print(key.decode())\n",
    "key = Fernet.generate_key()\n",
    "print(key.decode())"
   ]
  }
 ],
 "metadata": {
  "kernelspec": {
   "display_name": "pytorch",
   "language": "python",
   "name": "python3"
  },
  "language_info": {
   "codemirror_mode": {
    "name": "ipython",
    "version": 3
   },
   "file_extension": ".py",
   "mimetype": "text/x-python",
   "name": "python",
   "nbconvert_exporter": "python",
   "pygments_lexer": "ipython3",
   "version": "3.10.18"
  }
 },
 "nbformat": 4,
 "nbformat_minor": 2
}
