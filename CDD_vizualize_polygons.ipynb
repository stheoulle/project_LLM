{
 "cells": [
  {
   "cell_type": "code",
   "execution_count": 1,
   "metadata": {},
   "outputs": [],
   "source": [
    "#pip install ipywidgets matplotlib pandas pillow\n"
   ]
  },
  {
   "cell_type": "code",
   "execution_count": 2,
   "metadata": {},
   "outputs": [
    {
     "data": {
      "application/vnd.jupyter.widget-view+json": {
       "model_id": "920c680fc2bc480b9266496e70d65fad",
       "version_major": 2,
       "version_minor": 0
      },
      "text/plain": [
       "Dropdown(description='Image:', layout=Layout(width='400px'), options=('P100_L_CM_CC.jpg', 'P100_L_CM_MLO.jpg',…"
      ]
     },
     "metadata": {},
     "output_type": "display_data"
    },
    {
     "name": "stdout",
     "output_type": "stream",
     "text": [
      "Image not found: CDD-CESM/PKG - CDD-CESM/CDD-CESM/Low energy images of CDD-CESM/P100_L_CM_CC.jpg\n"
     ]
    }
   ],
   "source": [
    "import pandas as pd\n",
    "import matplotlib.pyplot as plt\n",
    "from matplotlib.patches import Ellipse, Circle\n",
    "from PIL import Image\n",
    "import json\n",
    "import os\n",
    "import ipywidgets as widgets\n",
    "from IPython.display import display\n",
    "\n",
    "# === Paths ===\n",
    "CSV_PATH = \"CDD-CESM/Radiology_hand_drawn_segmentations_v2.csv\"\n",
    "IMAGE_DIR = \"CDD-CESM/PKG - CDD-CESM/CDD-CESM/Low energy images of CDD-CESM\"\n",
    "\n",
    "# === Load CSV ===\n",
    "df = pd.read_csv(CSV_PATH)\n",
    "df['#filename'] = df['#filename'].str.strip()  # Clean any stray spaces\n",
    "images = df['#filename'].unique()\n",
    "\n",
    "# === Group by image ===\n",
    "grouped = df.groupby('#filename')\n",
    "\n",
    "# === Dropdown Widget ===\n",
    "dropdown = widgets.Dropdown(\n",
    "    options=sorted(images),\n",
    "    description='Image:',\n",
    "    layout=widgets.Layout(width='400px')\n",
    ")\n",
    "\n",
    "def display_image_with_annotations(image_name):\n",
    "    image_path = os.path.join(IMAGE_DIR, image_name)\n",
    "    if not os.path.exists(image_path):\n",
    "        print(f\"Image not found: {image_path}\")\n",
    "        return\n",
    "\n",
    "    # Load image\n",
    "    img = Image.open(image_path)\n",
    "    fig, ax = plt.subplots(figsize=(8, 8))\n",
    "    ax.imshow(img)\n",
    "    ax.set_title(image_name)\n",
    "    \n",
    "    # Draw annotations\n",
    "    try:\n",
    "        rows = grouped.get_group(image_name)\n",
    "        for _, row in rows.iterrows():\n",
    "            shape = json.loads(row['region_shape_attributes'])\n",
    "            if shape['name'] == 'ellipse':\n",
    "                patch = Ellipse(\n",
    "                    (shape['cx'], shape['cy']),\n",
    "                    2 * shape['rx'],\n",
    "                    2 * shape['ry'],\n",
    "                    edgecolor='red',\n",
    "                    facecolor='none',\n",
    "                    linewidth=2\n",
    "                )\n",
    "                ax.add_patch(patch)\n",
    "            elif shape['name'] == 'circle':\n",
    "                patch = Circle(\n",
    "                    (shape['cx'], shape['cy']),\n",
    "                    shape['r'],\n",
    "                    edgecolor='blue',\n",
    "                    facecolor='none',\n",
    "                    linewidth=2\n",
    "                )\n",
    "                ax.add_patch(patch)\n",
    "    except Exception as e:\n",
    "        print(f\"Error parsing annotation: {e}\")\n",
    "\n",
    "    ax.axis(\"off\")\n",
    "    plt.show()\n",
    "\n",
    "# === Callback ===\n",
    "def on_image_change(change):\n",
    "    display_image_with_annotations(change['new'])\n",
    "\n",
    "# === Link the callback ===\n",
    "dropdown.observe(on_image_change, names='value')\n",
    "\n",
    "# === Display the GUI ===\n",
    "display(dropdown)\n",
    "# Initial display\n",
    "display_image_with_annotations(dropdown.value)\n"
   ]
  }
 ],
 "metadata": {
  "kernelspec": {
   "display_name": "pytorch",
   "language": "python",
   "name": "python3"
  },
  "language_info": {
   "codemirror_mode": {
    "name": "ipython",
    "version": 3
   },
   "file_extension": ".py",
   "mimetype": "text/x-python",
   "name": "python",
   "nbconvert_exporter": "python",
   "pygments_lexer": "ipython3",
   "version": "3.10.18"
  }
 },
 "nbformat": 4,
 "nbformat_minor": 2
}
