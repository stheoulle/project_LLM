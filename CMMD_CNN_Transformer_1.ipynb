{
 "cells": [
  {
   "cell_type": "code",
   "execution_count": 32,
   "metadata": {},
   "outputs": [],
   "source": [
    "# Cell 1 - Import des bibliothèques\n",
    "import os\n",
    "import pydicom\n",
    "import cv2\n",
    "import numpy as np\n",
    "import pandas as pd\n",
    "import torch\n",
    "import torch.nn as nn\n",
    "import torch.nn.functional as F\n",
    "from torch.utils.data import Dataset, DataLoader\n",
    "from torchvision import transforms, models\n",
    "from sklearn.preprocessing import OneHotEncoder, StandardScaler\n",
    "from sklearn.model_selection import train_test_split\n",
    "from sklearn.metrics import classification_report\n",
    "from tqdm import tqdm\n",
    "import matplotlib.pyplot as plt\n"
   ]
  },
  {
   "cell_type": "code",
   "execution_count": 33,
   "metadata": {},
   "outputs": [],
   "source": [
    "# Cell 2 - Chargement et prétraitement des DICOM\n",
    "def load_dicom_files(base_dir):\n",
    "    dicom_paths = []\n",
    "    for root, _, files in os.walk(base_dir):\n",
    "        for f in files:\n",
    "            if f.endswith(\".dcm\"):\n",
    "                dicom_paths.append(os.path.join(root, f))\n",
    "    return dicom_paths\n",
    "\n",
    "def preprocess_dicom(path, size=(224, 224)):\n",
    "    dcm = pydicom.dcmread(path)\n",
    "    img = dcm.pixel_array.astype(np.float32)\n",
    "    img = (img - np.min(img)) / (np.max(img) - np.min(img))\n",
    "    img = cv2.resize(img, size)\n",
    "    img = np.stack([img]*3, axis=-1)  # Convertir en 3 canaux\n",
    "    return img\n"
   ]
  },
  {
   "cell_type": "code",
   "execution_count": 34,
   "metadata": {},
   "outputs": [
    {
     "name": "stdout",
     "output_type": "stream",
     "text": [
      "Nombre de patients : 2333\n"
     ]
    }
   ],
   "source": [
    "# Cell 3 - Chargement et préparation des données cliniques\n",
    "xlsx_path = \"CMMD/CMMD_clinicaldata_revision_sanitized.xlsx\"\n",
    "clinical_df = pd.read_excel(xlsx_path, sheet_name=\"Sheet1\")\n",
    "clinical_df = clinical_df.fillna(\"Unknown\")\n",
    "\n",
    "# Sélection des colonnes utiles\n",
    "label_column = \"classification\"  # 'Benign' ou 'Malignant'\n",
    "id_column = \"ID1\"\n",
    "\n",
    "categorical_cols = clinical_df.select_dtypes(include='object').columns.drop([label_column, id_column])\n",
    "numerical_cols = clinical_df.select_dtypes(include=['int64', 'float64']).columns\n",
    "\n",
    "# Encodage des variables\n",
    "onehot = OneHotEncoder(sparse_output=False, handle_unknown='ignore')\n",
    "scaler = StandardScaler()\n",
    "\n",
    "X_cat = onehot.fit_transform(clinical_df[categorical_cols])\n",
    "X_num = scaler.fit_transform(clinical_df[numerical_cols])\n",
    "\n",
    "clinical_features = np.hstack([X_cat, X_num])\n",
    "labels = clinical_df[label_column].map({\"Benign\": 0, \"Malignant\": 1}).values\n",
    "patient_ids = clinical_df[id_column].values\n",
    "\n",
    "print(f\"Nombre de patients : {len(patient_ids)}\")\n",
    "\n"
   ]
  },
  {
   "cell_type": "code",
   "execution_count": 35,
   "metadata": {},
   "outputs": [
    {
     "name": "stdout",
     "output_type": "stream",
     "text": [
      "2333 patients ont à la fois des images et des données cliniques.\n",
      "5202 images au total.\n",
      "1775 patients avec au moins une image.\n"
     ]
    }
   ],
   "source": [
    "# Cell 4 - Association images / patients\n",
    "dicom_dir = \"CMMD/manifest-1616439774456/CMMD\"\n",
    "dicom_paths = load_dicom_files(dicom_dir)\n",
    "\n",
    "# Mapping patient_id → images (on suppose ../../nom_dossier = patient_id)\n",
    "patient_to_images = {}\n",
    "for path in dicom_paths:\n",
    "    # On récupère le nom du dossier deux niveaux au-dessus\n",
    "    parts = path.split(os.sep)\n",
    "    if len(parts) >= 4:\n",
    "        patient_id = parts[-4]\n",
    "        if patient_id not in patient_to_images:\n",
    "            patient_to_images[patient_id] = []\n",
    "        patient_to_images[patient_id].append(path)\n",
    "\n",
    "\n",
    "# Filtrer ceux qui ont bien au moins une image\n",
    "filtered = [\n",
    "    (pid, i, l) \n",
    "    for pid, i, l in zip(patient_ids, clinical_features, labels) \n",
    "    if pid in patient_to_images\n",
    "]\n",
    "\n",
    "print(f\"{len(filtered)} patients ont à la fois des images et des données cliniques.\")\n",
    "print(f\"{len(dicom_paths)} images au total.\")\n",
    "print(f\"{len(patient_to_images)} patients avec au moins une image.\")\n"
   ]
  },
  {
   "cell_type": "code",
   "execution_count": 36,
   "metadata": {},
   "outputs": [],
   "source": [
    "class BreastCancerDataset(Dataset):\n",
    "    def __init__(self, data, transform=None, image_size=(224, 224), max_images=4):\n",
    "        self.data = data\n",
    "        self.transform = transform\n",
    "        self.image_size = image_size\n",
    "        self.max_images = max_images\n",
    "\n",
    "    def __len__(self):\n",
    "        return len(self.data)\n",
    "\n",
    "    def __getitem__(self, idx):\n",
    "        pid, clinical_vec, label = self.data[idx]\n",
    "        image_paths = patient_to_images[pid]\n",
    "        images = []\n",
    "\n",
    "        # Sélectionne ou complète jusqu’à max_images\n",
    "        for path in image_paths[:self.max_images]:\n",
    "            img = preprocess_dicom(path, size=self.image_size)\n",
    "            img = torch.tensor(img).permute(2, 0, 1).float()\n",
    "            if self.transform:\n",
    "                img = self.transform(img)\n",
    "            images.append(img)\n",
    "\n",
    "        # Padding si moins que max_images\n",
    "        while len(images) < self.max_images:\n",
    "            images.append(torch.zeros_like(images[0]))\n",
    "\n",
    "        imgs_tensor = torch.stack(images)  # (max_images, 3, H, W)\n",
    "        clinical_tensor = torch.tensor(clinical_vec).float()\n",
    "        label_tensor = torch.tensor(label).long()\n",
    "\n",
    "        return {\n",
    "            \"images\": imgs_tensor,       # shape: (N=4, 3, 224, 224)\n",
    "            \"clinical\": clinical_tensor, # shape: (features,)\n",
    "            \"label\": label_tensor\n",
    "        }\n"
   ]
  },
  {
   "cell_type": "code",
   "execution_count": 37,
   "metadata": {},
   "outputs": [
    {
     "name": "stdout",
     "output_type": "stream",
     "text": [
      "Réduction à 2309 échantillons (99% du total)\n",
      "\n",
      "Répartition dans le jeu d'entraînement :\n",
      "  Classe 1 : 1344 échantillons\n",
      "  Classe 0 : 503 échantillons\n",
      "\n",
      "Répartition dans le jeu de test :\n",
      "  Classe 0 : 126 échantillons\n",
      "  Classe 1 : 336 échantillons\n"
     ]
    }
   ],
   "source": [
    "# Cell 6 - Split & DataLoader (X% du dataset)\n",
    "\n",
    "from sklearn.model_selection import StratifiedShuffleSplit\n",
    "from collections import Counter\n",
    "\n",
    "# Définir facilement le pourcentage à utiliser\n",
    "subset_percentage = 0.99\n",
    "\n",
    "# Calcul du test_size pour garder seulement subset_percentage\n",
    "subset_splitter = StratifiedShuffleSplit(\n",
    "    n_splits=1,\n",
    "    test_size=1 - subset_percentage,\n",
    "    random_state=42\n",
    ")\n",
    "\n",
    "indices = list(range(len(filtered)))\n",
    "labels_all = [x[2] for x in filtered]\n",
    "\n",
    "for subset_idx, _ in subset_splitter.split(indices, labels_all):\n",
    "    filtered_small = [filtered[i] for i in subset_idx]\n",
    "\n",
    "print(f\"Réduction à {len(filtered_small)} échantillons ({int(subset_percentage * 100)}% du total)\")\n",
    "\n",
    "# Split train/test sur ce sous-ensemble\n",
    "train_data, test_data = train_test_split(\n",
    "    filtered_small,\n",
    "    test_size=0.2,\n",
    "    random_state=42,\n",
    "    stratify=[x[2] for x in filtered_small]\n",
    ")\n",
    "\n",
    "# Affichage du nombre d'éléments par classe dans chaque split\n",
    "train_labels = [x[2] for x in train_data]\n",
    "test_labels = [x[2] for x in test_data]\n",
    "\n",
    "print(\"\\nRépartition dans le jeu d'entraînement :\")\n",
    "for label, count in Counter(train_labels).items():\n",
    "    print(f\"  Classe {label} : {count} échantillons\")\n",
    "\n",
    "print(\"\\nRépartition dans le jeu de test :\")\n",
    "for label, count in Counter(test_labels).items():\n",
    "    print(f\"  Classe {label} : {count} échantillons\")\n",
    "\n",
    "# Création des datasets et dataloaders\n",
    "train_dataset = BreastCancerDataset(train_data)\n",
    "test_dataset = BreastCancerDataset(test_data)\n",
    "\n",
    "train_loader = DataLoader(train_dataset, batch_size=16, shuffle=True)\n",
    "test_loader = DataLoader(test_dataset, batch_size=16)\n"
   ]
  },
  {
   "cell_type": "code",
   "execution_count": 38,
   "metadata": {},
   "outputs": [],
   "source": [
    "class BreastCancerModel(nn.Module):\n",
    "    def __init__(self, clinical_dim):\n",
    "        super().__init__()\n",
    "        base = models.resnet18(pretrained=True)\n",
    "        base.fc = nn.Identity()\n",
    "        self.cnn = base  # CNN sans la dernière couche (donne 512-dim)\n",
    "\n",
    "        self.fusion = nn.Sequential(\n",
    "            nn.Linear(512 + clinical_dim, 256),\n",
    "            nn.ReLU(),\n",
    "            nn.Linear(256, 2)\n",
    "        )\n",
    "\n",
    "    def forward(self, imgs, clinical):\n",
    "        # imgs : (B, N_img, 3, H, W)\n",
    "        B, N, C, H, W = imgs.shape\n",
    "        imgs = imgs.view(B * N, C, H, W)\n",
    "        img_feats = self.cnn(imgs)  # (B*N, 512)\n",
    "        img_feats = img_feats.view(B, N, -1)  # (B, N, 512)\n",
    "        img_feats = img_feats.mean(dim=1)     # (B, 512)\n",
    "\n",
    "        x = torch.cat([img_feats, clinical], dim=1)  # (B, 512 + clinical_dim)\n",
    "        return self.fusion(x)\n"
   ]
  },
  {
   "cell_type": "code",
   "execution_count": 39,
   "metadata": {},
   "outputs": [
    {
     "name": "stderr",
     "output_type": "stream",
     "text": [
      "/home/light/miniforge3/envs/pytorch/lib/python3.10/site-packages/torchvision/models/_utils.py:208: UserWarning: The parameter 'pretrained' is deprecated since 0.13 and may be removed in the future, please use 'weights' instead.\n",
      "  warnings.warn(\n",
      "/home/light/miniforge3/envs/pytorch/lib/python3.10/site-packages/torchvision/models/_utils.py:223: UserWarning: Arguments other than a weight enum or `None` for 'weights' are deprecated since 0.13 and may be removed in the future. The current behavior is equivalent to passing `weights=ResNet18_Weights.IMAGENET1K_V1`. You can also use `weights=ResNet18_Weights.DEFAULT` to get the most up-to-date weights.\n",
      "  warnings.warn(msg)\n",
      "Epoch 1: 100%|██████████| 116/116 [11:32<00:00,  5.97s/it]\n"
     ]
    },
    {
     "name": "stdout",
     "output_type": "stream",
     "text": [
      "Epoch 1/10 - Loss: 0.5218 - Accuracy: 0.7331\n"
     ]
    },
    {
     "name": "stderr",
     "output_type": "stream",
     "text": [
      "Epoch 2: 100%|██████████| 116/116 [11:55<00:00,  6.17s/it]\n"
     ]
    },
    {
     "name": "stdout",
     "output_type": "stream",
     "text": [
      "Epoch 2/10 - Loss: 0.4115 - Accuracy: 0.7986\n"
     ]
    },
    {
     "name": "stderr",
     "output_type": "stream",
     "text": [
      "Epoch 3: 100%|██████████| 116/116 [11:31<00:00,  5.96s/it]\n"
     ]
    },
    {
     "name": "stdout",
     "output_type": "stream",
     "text": [
      "Epoch 3/10 - Loss: 0.2885 - Accuracy: 0.8722\n"
     ]
    },
    {
     "name": "stderr",
     "output_type": "stream",
     "text": [
      "Epoch 4: 100%|██████████| 116/116 [11:34<00:00,  5.99s/it]\n"
     ]
    },
    {
     "name": "stdout",
     "output_type": "stream",
     "text": [
      "Epoch 4/10 - Loss: 0.1988 - Accuracy: 0.9291\n"
     ]
    },
    {
     "name": "stderr",
     "output_type": "stream",
     "text": [
      "Epoch 5: 100%|██████████| 116/116 [10:33<00:00,  5.46s/it]\n"
     ]
    },
    {
     "name": "stdout",
     "output_type": "stream",
     "text": [
      "Epoch 5/10 - Loss: 0.1318 - Accuracy: 0.9594\n"
     ]
    },
    {
     "name": "stderr",
     "output_type": "stream",
     "text": [
      "Epoch 6: 100%|██████████| 116/116 [10:09<00:00,  5.25s/it]\n"
     ]
    },
    {
     "name": "stdout",
     "output_type": "stream",
     "text": [
      "Epoch 6/10 - Loss: 0.1225 - Accuracy: 0.9637\n"
     ]
    },
    {
     "name": "stderr",
     "output_type": "stream",
     "text": [
      "Epoch 7: 100%|██████████| 116/116 [10:34<00:00,  5.47s/it]\n"
     ]
    },
    {
     "name": "stdout",
     "output_type": "stream",
     "text": [
      "Epoch 7/10 - Loss: 0.0874 - Accuracy: 0.9751\n"
     ]
    },
    {
     "name": "stderr",
     "output_type": "stream",
     "text": [
      "Epoch 8: 100%|██████████| 116/116 [10:41<00:00,  5.53s/it]\n"
     ]
    },
    {
     "name": "stdout",
     "output_type": "stream",
     "text": [
      "Epoch 8/10 - Loss: 0.0583 - Accuracy: 0.9827\n"
     ]
    },
    {
     "name": "stderr",
     "output_type": "stream",
     "text": [
      "Epoch 9: 100%|██████████| 116/116 [09:32<00:00,  4.93s/it]\n"
     ]
    },
    {
     "name": "stdout",
     "output_type": "stream",
     "text": [
      "Epoch 9/10 - Loss: 0.0718 - Accuracy: 0.9735\n"
     ]
    },
    {
     "name": "stderr",
     "output_type": "stream",
     "text": [
      "Epoch 10: 100%|██████████| 116/116 [09:32<00:00,  4.94s/it]"
     ]
    },
    {
     "name": "stdout",
     "output_type": "stream",
     "text": [
      "Epoch 10/10 - Loss: 0.0562 - Accuracy: 0.9783\n"
     ]
    },
    {
     "name": "stderr",
     "output_type": "stream",
     "text": [
      "\n"
     ]
    }
   ],
   "source": [
    "# Cell 8 - Entraînement avec suivi loss et accuracy\n",
    "\n",
    "device = torch.device(\"cuda\" if torch.cuda.is_available() else \"cpu\")\n",
    "model = BreastCancerModel(clinical_dim=clinical_features.shape[1]).to(device)\n",
    "\n",
    "criterion = nn.CrossEntropyLoss()\n",
    "optimizer = torch.optim.Adam(model.parameters(), lr=1e-4)\n",
    "\n",
    "n_epochs = 10\n",
    "\n",
    "train_losses = []\n",
    "train_accuracies = []\n",
    "\n",
    "for epoch in range(n_epochs):\n",
    "    model.train()\n",
    "    running_loss = 0\n",
    "    running_corrects = 0\n",
    "    total_samples = 0\n",
    "    \n",
    "    for batch in tqdm(train_loader, desc=f\"Epoch {epoch+1}\"):\n",
    "        imgs = batch[\"images\"].to(device)\n",
    "        clinical = batch[\"clinical\"].to(device)\n",
    "        labels = batch[\"label\"].to(device)\n",
    "\n",
    "        outputs = model(imgs, clinical)\n",
    "        loss = criterion(outputs, labels)\n",
    "\n",
    "        optimizer.zero_grad()\n",
    "        loss.backward()\n",
    "        optimizer.step()\n",
    "\n",
    "        running_loss += loss.item() * imgs.size(0)  # somme pondérée par taille batch\n",
    "        preds = torch.argmax(outputs, dim=1)\n",
    "        running_corrects += (preds == labels).sum().item()\n",
    "        total_samples += imgs.size(0)\n",
    "    \n",
    "    epoch_loss = running_loss / total_samples\n",
    "    epoch_acc = running_corrects / total_samples\n",
    "    \n",
    "    train_losses.append(epoch_loss)\n",
    "    train_accuracies.append(epoch_acc)\n",
    "    \n",
    "    print(f\"Epoch {epoch+1}/{n_epochs} - Loss: {epoch_loss:.4f} - Accuracy: {epoch_acc:.4f}\")\n"
   ]
  },
  {
   "cell_type": "code",
   "execution_count": 40,
   "metadata": {},
   "outputs": [
    {
     "name": "stdout",
     "output_type": "stream",
     "text": [
      "              precision    recall  f1-score   support\n",
      "\n",
      "      Benign       0.69      0.63      0.66       126\n",
      "   Malignant       0.86      0.89      0.88       336\n",
      "\n",
      "    accuracy                           0.82       462\n",
      "   macro avg       0.78      0.76      0.77       462\n",
      "weighted avg       0.82      0.82      0.82       462\n",
      "\n"
     ]
    },
    {
     "data": {
      "image/png": "[encoded data removed]",
      "text/plain": [
       "<Figure size 600x500 with 2 Axes>"
      ]
     },
     "metadata": {},
     "output_type": "display_data"
    },
    {
     "data": {
      "image/png": "[encoded data removed]",
      "text/plain": [
       "<Figure size 1200x500 with 2 Axes>"
      ]
     },
     "metadata": {},
     "output_type": "display_data"
    }
   ],
   "source": [
    "# Cell 9 - Évaluation avec matrice de confusion, loss et accuracy\n",
    "\n",
    "import matplotlib.pyplot as plt\n",
    "import seaborn as sns\n",
    "from sklearn.metrics import classification_report, confusion_matrix\n",
    "\n",
    "model.eval()\n",
    "all_preds = []\n",
    "all_labels = []\n",
    "\n",
    "with torch.no_grad():\n",
    "    for batch in test_loader:\n",
    "        imgs = batch[\"images\"].to(device)\n",
    "        clinical = batch[\"clinical\"].to(device)\n",
    "        labels = batch[\"label\"].to(device)\n",
    "\n",
    "        outputs = model(imgs, clinical)\n",
    "        preds = torch.argmax(outputs, dim=1)\n",
    "\n",
    "        all_preds.extend(preds.cpu().numpy())\n",
    "        all_labels.extend(labels.cpu().numpy())\n",
    "\n",
    "# Rapport classification\n",
    "print(classification_report(all_labels, all_preds, target_names=[\"Benign\", \"Malignant\"]))\n",
    "\n",
    "# Matrice de confusion\n",
    "cm = confusion_matrix(all_labels, all_preds)\n",
    "plt.figure(figsize=(6, 5))\n",
    "sns.heatmap(cm, annot=True, fmt=\"d\", cmap=\"Blues\", xticklabels=[\"Benign\", \"Malignant\"], yticklabels=[\"Benign\", \"Malignant\"])\n",
    "plt.xlabel(\"Prédictions\")\n",
    "plt.ylabel(\"Véritables étiquettes\")\n",
    "plt.title(\"Matrice de confusion\")\n",
    "plt.show()\n",
    "\n",
    "# --- Affichage des courbes loss / accuracy (supposé stocké dans ces listes pendant l'entraînement) ---\n",
    "# Ces listes doivent être mises à jour à chaque batch/epoch pendant l'entraînement\n",
    "\n",
    "if 'train_losses' in globals() and 'train_accuracies' in globals():\n",
    "    epochs = range(1, len(train_losses) + 1)\n",
    "    plt.figure(figsize=(12, 5))\n",
    "\n",
    "    plt.subplot(1, 2, 1)\n",
    "    plt.plot(epochs, train_losses, label='Loss')\n",
    "    plt.xlabel(\"Epoch\")\n",
    "    plt.ylabel(\"Loss\")\n",
    "    plt.title(\"Courbe de loss d'entraînement\")\n",
    "    plt.legend()\n",
    "\n",
    "    plt.subplot(1, 2, 2)\n",
    "    plt.plot(epochs, train_accuracies, label='Accuracy', color='green')\n",
    "    plt.xlabel(\"Epoch\")\n",
    "    plt.ylabel(\"Accuracy\")\n",
    "    plt.title(\"Courbe d'accuracy d'entraînement\")\n",
    "    plt.legend()\n",
    "\n",
    "    plt.show()\n",
    "else:\n",
    "    print(\"Les listes 'train_losses' et 'train_accuracies' ne sont pas définies. Assure-toi de les mettre à jour pendant l'entraînement.\")\n"
   ]
  }
 ],
 "metadata": {
  "kernelspec": {
   "display_name": "pytorch",
   "language": "python",
   "name": "python3"
  },
  "language_info": {
   "codemirror_mode": {
    "name": "ipython",
    "version": 3
   },
   "file_extension": ".py",
   "mimetype": "text/x-python",
   "name": "python",
   "nbconvert_exporter": "python",
   "pygments_lexer": "ipython3",
   "version": "3.10.18"
  }
 },
 "nbformat": 4,
 "nbformat_minor": 2
}
