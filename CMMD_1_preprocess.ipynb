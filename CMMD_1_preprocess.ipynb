{
 "cells": [
  {
   "cell_type": "code",
   "execution_count": 9,
   "metadata": {},
   "outputs": [],
   "source": [
    "import os\n",
    "import cv2\n",
    "import json\n",
    "import pandas as pd\n",
    "import numpy as np\n",
    "from PIL import Image\n",
    "import matplotlib.pyplot as plt\n",
    "import seaborn as sns\n",
    "from sklearn.preprocessing import OneHotEncoder, OrdinalEncoder, StandardScaler"
   ]
  },
  {
   "cell_type": "code",
   "execution_count": 10,
   "metadata": {},
   "outputs": [],
   "source": [
    "BASE_DIR = \"CMMD/manifest-1616439774456/CMMD\"\n",
    "XLSX_PATH = \"CMMD/CMMD_clinicaldata_revision.xlsx\"  # <- change this\n"
   ]
  },
  {
   "cell_type": "code",
   "execution_count": 11,
   "metadata": {},
   "outputs": [],
   "source": [
    "\n",
    "def rename_dicoms_with_patient_id(base_dir):\n",
    "    for root, dirs, files in os.walk(base_dir):\n",
    "        # On extrait le nom du patient si on est dans un sous-dossier d'un patient\n",
    "        relative_path = os.path.relpath(root, base_dir)\n",
    "        patient_id = relative_path.split(os.sep)[0]  # premier sous-dossier = ID patient\n",
    "\n",
    "        for file in files:\n",
    "            if file.endswith(\".dcm\") and not file.startswith(patient_id + \"___\"):\n",
    "                old_path = os.path.join(root, file)\n",
    "                new_filename = f\"{patient_id}___{file}\"\n",
    "                new_path = os.path.join(root, new_filename)\n",
    "\n",
    "                os.rename(old_path, new_path)\n",
    "                print(f\"Renamed: {old_path} -> {new_path}\")"
   ]
  },
  {
   "cell_type": "code",
   "execution_count": 12,
   "metadata": {},
   "outputs": [],
   "source": [
    "def load_dicom(BASE_DIR):\n",
    "    dicom_files = []\n",
    "    for root, _, files in os.walk(BASE_DIR):\n",
    "        for file in files:\n",
    "            if file.endswith(\".dcm\"):\n",
    "                dicom_files.append(os.path.join(root, file))\n",
    "    return dicom_files"
   ]
  },
  {
   "cell_type": "code",
   "execution_count": 13,
   "metadata": {},
   "outputs": [],
   "source": [
    "rename_dicoms_with_patient_id(BASE_DIR)"
   ]
  },
  {
   "cell_type": "code",
   "execution_count": 15,
   "metadata": {},
   "outputs": [
    {
     "name": "stdout",
     "output_type": "stream",
     "text": [
      "Loading DICOM files...\n",
      "Found 5202 DICOM files.\n"
     ]
    }
   ],
   "source": [
    "print(\"Loading DICOM files...\")\n",
    "dicom_files = load_dicom(BASE_DIR)\n",
    "print(f\"Found {len(dicom_files)} DICOM files.\")\n"
   ]
  },
  {
   "cell_type": "code",
   "execution_count": 19,
   "metadata": {},
   "outputs": [
    {
     "name": "stdout",
     "output_type": "stream",
     "text": [
      "Loading clinical data...\n",
      "Loaded clinical data with 1872 rows and 7 columns.\n",
      "Processing 'both' values in 5th column...\n",
      "Expanded clinical data saved to: CMMD/CMMD_clinicaldata_revision_sanitized.xlsx\n"
     ]
    }
   ],
   "source": [
    "import pandas as pd\n",
    "\n",
    "print(\"Loading clinical data...\")\n",
    "clinical_data = pd.read_excel(XLSX_PATH, sheet_name=\"Sheet1\")\n",
    "print(f\"Loaded clinical data with {clinical_data.shape[0]} rows and {clinical_data.shape[1]} columns.\")\n",
    "print(\"Processing 'both' values in 5th column...\")\n",
    "\n",
    "# Nom de la 5e colonne (index 4)\n",
    "column_name = clinical_data.columns[4]\n",
    "\n",
    "# Séparer les lignes avec 'both'\n",
    "both_rows = clinical_data[clinical_data[column_name] == 'both']\n",
    "non_both_rows = clinical_data[clinical_data[column_name] != 'both']\n",
    "\n",
    "# Dupliquer avec 'calcification' et 'mass'\n",
    "calcification_rows = both_rows.copy()\n",
    "calcification_rows[column_name] = 'calcification'\n",
    "\n",
    "mass_rows = both_rows.copy()\n",
    "mass_rows[column_name] = 'mass'\n",
    "\n",
    "# Combiner tous les résultats\n",
    "clinical_data_expanded = pd.concat([non_both_rows, calcification_rows, mass_rows], ignore_index=True)\n",
    "\n",
    "# Sauvegarde dans un nouveau fichier Excel\n",
    "output_path = \"CMMD/CMMD_clinicaldata_revision_sanitized.xlsx\"\n",
    "clinical_data_expanded.to_excel(output_path, index=False)\n",
    "\n",
    "print(f\"Expanded clinical data saved to: {output_path}\")\n"
   ]
  },
  {
   "cell_type": "code",
   "execution_count": 18,
   "metadata": {},
   "outputs": [
    {
     "name": "stdout",
     "output_type": "stream",
     "text": [
      "Sample dictionary created with patient IDs as keys.\n",
      "[('D1-0001', {'ID1': 'D1-0001', 'LeftRight': 'R', 'Age': 44, 'number': 2, 'abnormality': 'calcification', 'classification': 'Benign', 'subtype': nan}), ('D1-0002', {'ID1': 'D1-0002', 'LeftRight': 'L', 'Age': 40, 'number': 2, 'abnormality': 'calcification', 'classification': 'Benign', 'subtype': nan}), ('D1-0003', {'ID1': 'D1-0003', 'LeftRight': 'L', 'Age': 39, 'number': 2, 'abnormality': 'calcification', 'classification': 'Benign', 'subtype': nan}), ('D1-0004', {'ID1': 'D1-0004', 'LeftRight': 'L', 'Age': 41, 'number': 2, 'abnormality': 'calcification', 'classification': 'Benign', 'subtype': nan}), ('D1-0005', {'ID1': 'D1-0005', 'LeftRight': 'R', 'Age': 42, 'number': 2, 'abnormality': 'calcification', 'classification': 'Benign', 'subtype': nan})]\n"
     ]
    }
   ],
   "source": [
    "# Build sample dictionary\n",
    "sample_dict = {}\n",
    "for _, row in clinical_data.iterrows():\n",
    "    patient_id = row['ID1']\n",
    "    sample_dict[patient_id] = row.to_dict()\n",
    "# Display the first few entries of the sample dictionary\n",
    "print(\"Sample dictionary created with patient IDs as keys.\")\n",
    "# Display the first few entries\n",
    "print(list(sample_dict.items())[:5])"
   ]
  }
 ],
 "metadata": {
  "kernelspec": {
   "display_name": "pytorch",
   "language": "python",
   "name": "python3"
  },
  "language_info": {
   "codemirror_mode": {
    "name": "ipython",
    "version": 3
   },
   "file_extension": ".py",
   "mimetype": "text/x-python",
   "name": "python",
   "nbconvert_exporter": "python",
   "pygments_lexer": "ipython3",
   "version": "3.10.18"
  }
 },
 "nbformat": 4,
 "nbformat_minor": 2
}
