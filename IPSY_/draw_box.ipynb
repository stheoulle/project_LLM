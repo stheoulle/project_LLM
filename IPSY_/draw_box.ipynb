{
 "cells": [
  {
   "cell_type": "code",
   "execution_count": 1,
   "id": "8a891226",
   "metadata": {},
   "outputs": [],
   "source": [
    "import os\n",
    "\n",
    "%matplotlib inline\n",
    "import matplotlib.pyplot as plt\n",
    "\n",
    "from duke_dbt_data import dcmread_image, read_boxes, draw_box"
   ]
  },
  {
   "cell_type": "code",
   "execution_count": null,
   "id": "fd164f79",
   "metadata": {},
   "outputs": [],
   "source": [
    "df = read_boxes(boxes_fp=\"BCS-DBT-boxes-validation-v2-PHASE-2-Jan-2024.csv\", filepaths_fp=\"BCS-DBT-file-paths-validation-v2.csv\")"
   ]
  },
  {
   "cell_type": "code",
   "execution_count": null,
   "id": "5c7bb78d",
   "metadata": {},
   "outputs": [],
   "source": [
    "box_series = df.iloc[0]\n",
    "view = box_series[\"View\"]\n",
    "slice_index = box_series[\"Slice\"]\n",
    "# if you have image data saved in classic path folder structure, read the file path from \"classic_path\"\n",
    "# image_path = os.path.join(\"/data\", view_series[\"classic_path\"])\n",
    "image_path = os.path.join(\"/data\", box_series[\"descriptive_path\"])"
   ]
  },
  {
   "cell_type": "code",
   "execution_count": null,
   "id": "1f2504aa",
   "metadata": {},
   "outputs": [],
   "source": [
    "\n",
    "\n",
    "%%time\n",
    "image = dcmread_image(fp=image_path, view=view, index=slice_index)\n",
    "\n"
   ]
  },
  {
   "cell_type": "code",
   "execution_count": null,
   "id": "fc28e4cc",
   "metadata": {},
   "outputs": [],
   "source": [
    "\n",
    "\n",
    "x, y, width, height = box_series[[\"X\", \"Y\", \"Width\", \"Height\"]]\n",
    "image = draw_box(image=image, x=x, y=y, width=width, height=height, lw=10)\n",
    "\n"
   ]
  },
  {
   "cell_type": "code",
   "execution_count": null,
   "id": "5f04ad6b",
   "metadata": {},
   "outputs": [],
   "source": [
    "plt.imshow(image, cmap=plt.cm.gray);"
   ]
  }
 ],
 "metadata": {
  "kernelspec": {
   "display_name": "biogpt",
   "language": "python",
   "name": "python3"
  },
  "language_info": {
   "codemirror_mode": {
    "name": "ipython",
    "version": 3
   },
   "file_extension": ".py",
   "mimetype": "text/x-python",
   "name": "python",
   "nbconvert_exporter": "python",
   "pygments_lexer": "ipython3",
   "version": "3.11.13"
  }
 },
 "nbformat": 4,
 "nbformat_minor": 5
}
