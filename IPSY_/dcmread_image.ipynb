{
 "cells": [
  {
   "cell_type": "code",
   "execution_count": null,
   "id": "6dcd9c2c",
   "metadata": {},
   "outputs": [],
   "source": [
    "import os\n",
    "\n",
    "%matplotlib inline\n",
    "import matplotlib.pyplot as plt\n",
    "import pandas as pd\n",
    "\n",
    "import importlib\n",
    "import duke_dbt_data\n",
    "importlib.reload(duke_dbt_data)\n",
    "from duke_dbt_data import dcmread_image\n",
    "\n",
    "import pydicom\n",
    "from pydicom.data import get_testdata_file\n",
    "import pylibjpeg"
   ]
  },
  {
   "cell_type": "code",
   "execution_count": 87,
   "id": "4a4f081d",
   "metadata": {},
   "outputs": [],
   "source": [
    "df = pd.read_csv(\"BCS-DBT-file-paths-validation-v2.csv\")"
   ]
  },
  {
   "cell_type": "code",
   "execution_count": 88,
   "id": "e8531f2f",
   "metadata": {},
   "outputs": [],
   "source": [
    "view_series = df.iloc[0]\n",
    "view = view_series[\"View\"]\n",
    "# if you have image data saved in classic path folder structure, read the file path from \"classic_path\"\n",
    "# image_path = os.path.join(\"/data\", view_series[\"classic_path\"])\n",
    "image_path = os.path.join(\"/home/naeem/Documents/sarah/project_LLM/IPSY_/manifest-1617905855234\", view_series[\"descriptive_path\"])"
   ]
  },
  {
   "cell_type": "code",
   "execution_count": 89,
   "id": "1026d0fe",
   "metadata": {},
   "outputs": [
    {
     "ename": "RuntimeError",
     "evalue": "Unable to decompress 'JPEG 2000 Image Compression (Lossless Only)' pixel data because the specified plugin is missing dependencies:\n\tpylibjpeg - requires pylibjpeg>=2.0 and pylibjpeg-openjpeg>=2.0",
     "output_type": "error",
     "traceback": [
      "\u001b[0;31m---------------------------------------------------------------------------\u001b[0m",
      "\u001b[0;31mRuntimeError\u001b[0m                              Traceback (most recent call last)",
      "File \u001b[0;32m<timed exec>:1\u001b[0m\n",
      "File \u001b[0;32m~/Documents/sarah/project_LLM/IPSY_/duke_dbt_data.py:19\u001b[0m, in \u001b[0;36mdcmread_image\u001b[0;34m(fp, view, index)\u001b[0m\n\u001b[1;32m     17\u001b[0m \u001b[38;5;250m\u001b[39m\u001b[38;5;124;03m\"\"\"Read pixel array from DBT DICOM file\"\"\"\u001b[39;00m\n\u001b[1;32m     18\u001b[0m ds \u001b[38;5;241m=\u001b[39m dicom\u001b[38;5;241m.\u001b[39mdcmread(fp)\n\u001b[0;32m---> 19\u001b[0m ds\u001b[38;5;241m.\u001b[39mdecompress(handler_name\u001b[38;5;241m=\u001b[39m\u001b[38;5;124m\"\u001b[39m\u001b[38;5;124mpylibjpeg\u001b[39m\u001b[38;5;124m\"\u001b[39m)\n\u001b[1;32m     20\u001b[0m pixel_array \u001b[38;5;241m=\u001b[39m ds\u001b[38;5;241m.\u001b[39mpixel_array\n\u001b[1;32m     21\u001b[0m view_laterality \u001b[38;5;241m=\u001b[39m view[\u001b[38;5;241m0\u001b[39m]\u001b[38;5;241m.\u001b[39mupper()\n",
      "File \u001b[0;32m~/miniconda3/envs/biogpt/lib/python3.11/site-packages/pydicom/dataset.py:2097\u001b[0m, in \u001b[0;36mDataset.decompress\u001b[0;34m(self, handler_name, as_rgb, generate_instance_uid, decoding_plugin, **kwargs)\u001b[0m\n\u001b[1;32m   2094\u001b[0m     opts[\u001b[38;5;124m\"\u001b[39m\u001b[38;5;124mdecoding_plugin\u001b[39m\u001b[38;5;124m\"\u001b[39m] \u001b[38;5;241m=\u001b[39m decoding_plugin\n\u001b[1;32m   2096\u001b[0m opts\u001b[38;5;241m.\u001b[39mupdate(\u001b[38;5;241m*\u001b[39m\u001b[38;5;241m*\u001b[39mkwargs)\n\u001b[0;32m-> 2097\u001b[0m decompress(\n\u001b[1;32m   2098\u001b[0m     \u001b[38;5;28mself\u001b[39m,\n\u001b[1;32m   2099\u001b[0m     as_rgb\u001b[38;5;241m=\u001b[39mas_rgb,\n\u001b[1;32m   2100\u001b[0m     generate_instance_uid\u001b[38;5;241m=\u001b[39mgenerate_instance_uid,\n\u001b[1;32m   2101\u001b[0m     \u001b[38;5;241m*\u001b[39m\u001b[38;5;241m*\u001b[39mopts,\n\u001b[1;32m   2102\u001b[0m )\n",
      "File \u001b[0;32m~/miniconda3/envs/biogpt/lib/python3.11/site-packages/pydicom/pixels/utils.py:579\u001b[0m, in \u001b[0;36mdecompress\u001b[0;34m(ds, as_rgb, generate_instance_uid, decoding_plugin, **kwargs)\u001b[0m\n\u001b[1;32m    572\u001b[0m     frame_generator \u001b[38;5;241m=\u001b[39m decoder\u001b[38;5;241m.\u001b[39miter_array(\n\u001b[1;32m    573\u001b[0m         ds,\n\u001b[1;32m    574\u001b[0m         decoding_plugin\u001b[38;5;241m=\u001b[39mdecoding_plugin,\n\u001b[1;32m    575\u001b[0m         as_rgb\u001b[38;5;241m=\u001b[39mas_rgb,\n\u001b[1;32m    576\u001b[0m         \u001b[38;5;241m*\u001b[39m\u001b[38;5;241m*\u001b[39mkwargs,\n\u001b[1;32m    577\u001b[0m     )\n\u001b[1;32m    578\u001b[0m     frames \u001b[38;5;241m=\u001b[39m []\n\u001b[0;32m--> 579\u001b[0m     \u001b[38;5;28;01mfor\u001b[39;00m arr, image_pixel \u001b[38;5;129;01min\u001b[39;00m frame_generator:\n\u001b[1;32m    580\u001b[0m         frames\u001b[38;5;241m.\u001b[39mappend(arr\u001b[38;5;241m.\u001b[39mtobytes())\n\u001b[1;32m    582\u001b[0m \u001b[38;5;66;03m# Part 5, Section 8.1.1: 32-bit Value Length field\u001b[39;00m\n",
      "File \u001b[0;32m~/miniconda3/envs/biogpt/lib/python3.11/site-packages/pydicom/pixels/decoders/base.py:1655\u001b[0m, in \u001b[0;36mDecoder.iter_array\u001b[0;34m(self, src, indices, raw, validate, decoding_plugin, **kwargs)\u001b[0m\n\u001b[1;32m   1650\u001b[0m runner\u001b[38;5;241m.\u001b[39mset_source(src)\n\u001b[1;32m   1651\u001b[0m runner\u001b[38;5;241m.\u001b[39mset_options(\u001b[38;5;241m*\u001b[39m\u001b[38;5;241m*\u001b[39mkwargs)\n\u001b[1;32m   1652\u001b[0m runner\u001b[38;5;241m.\u001b[39mset_decoders(\n\u001b[1;32m   1653\u001b[0m     cast(\n\u001b[1;32m   1654\u001b[0m         \u001b[38;5;28mdict\u001b[39m[\u001b[38;5;28mstr\u001b[39m, \u001b[38;5;124m\"\u001b[39m\u001b[38;5;124mDecodeFunction\u001b[39m\u001b[38;5;124m\"\u001b[39m],\n\u001b[0;32m-> 1655\u001b[0m         \u001b[38;5;28mself\u001b[39m\u001b[38;5;241m.\u001b[39m_validate_plugins(decoding_plugin),\n\u001b[1;32m   1656\u001b[0m     ),\n\u001b[1;32m   1657\u001b[0m )\n\u001b[1;32m   1659\u001b[0m \u001b[38;5;28;01mif\u001b[39;00m config\u001b[38;5;241m.\u001b[39mdebugging:\n\u001b[1;32m   1660\u001b[0m     LOGGER\u001b[38;5;241m.\u001b[39mdebug(runner)\n",
      "File \u001b[0;32m~/miniconda3/envs/biogpt/lib/python3.11/site-packages/pydicom/pixels/common.py:231\u001b[0m, in \u001b[0;36mCoderBase._validate_plugins\u001b[0;34m(self, plugin)\u001b[0m\n\u001b[1;32m    228\u001b[0m         missing \u001b[38;5;241m=\u001b[39m \u001b[38;5;124mf\u001b[39m\u001b[38;5;124m\"\u001b[39m\u001b[38;5;132;01m{\u001b[39;00m\u001b[38;5;124m'\u001b[39m\u001b[38;5;124m, \u001b[39m\u001b[38;5;124m'\u001b[39m\u001b[38;5;241m.\u001b[39mjoin(deps[:\u001b[38;5;241m-\u001b[39m\u001b[38;5;241m1\u001b[39m])\u001b[38;5;132;01m}\u001b[39;00m\u001b[38;5;124m and \u001b[39m\u001b[38;5;132;01m{\u001b[39;00mdeps[\u001b[38;5;241m-\u001b[39m\u001b[38;5;241m1\u001b[39m]\u001b[38;5;132;01m}\u001b[39;00m\u001b[38;5;124m\"\u001b[39m\n\u001b[1;32m    230\u001b[0m     \u001b[38;5;28;01mif\u001b[39;00m \u001b[38;5;28mself\u001b[39m\u001b[38;5;241m.\u001b[39m_decoder:\n\u001b[0;32m--> 231\u001b[0m         \u001b[38;5;28;01mraise\u001b[39;00m \u001b[38;5;167;01mRuntimeError\u001b[39;00m(\n\u001b[1;32m    232\u001b[0m             \u001b[38;5;124mf\u001b[39m\u001b[38;5;124m\"\u001b[39m\u001b[38;5;124mUnable to decompress \u001b[39m\u001b[38;5;124m'\u001b[39m\u001b[38;5;132;01m{\u001b[39;00m\u001b[38;5;28mself\u001b[39m\u001b[38;5;241m.\u001b[39mUID\u001b[38;5;241m.\u001b[39mname\u001b[38;5;132;01m}\u001b[39;00m\u001b[38;5;124m'\u001b[39m\u001b[38;5;124m pixel data because \u001b[39m\u001b[38;5;124m\"\u001b[39m\n\u001b[1;32m    233\u001b[0m             \u001b[38;5;124mf\u001b[39m\u001b[38;5;124m\"\u001b[39m\u001b[38;5;124mthe specified plugin is missing dependencies:\u001b[39m\u001b[38;5;130;01m\\n\u001b[39;00m\u001b[38;5;130;01m\\t\u001b[39;00m\u001b[38;5;132;01m{\u001b[39;00mplugin\u001b[38;5;132;01m}\u001b[39;00m\u001b[38;5;124m \u001b[39m\u001b[38;5;124m\"\u001b[39m\n\u001b[1;32m    234\u001b[0m             \u001b[38;5;124mf\u001b[39m\u001b[38;5;124m\"\u001b[39m\u001b[38;5;124m- requires \u001b[39m\u001b[38;5;132;01m{\u001b[39;00mmissing\u001b[38;5;132;01m}\u001b[39;00m\u001b[38;5;124m\"\u001b[39m\n\u001b[1;32m    235\u001b[0m         )\n\u001b[1;32m    237\u001b[0m     \u001b[38;5;28;01mraise\u001b[39;00m \u001b[38;5;167;01mRuntimeError\u001b[39;00m(\n\u001b[1;32m    238\u001b[0m         \u001b[38;5;124mf\u001b[39m\u001b[38;5;124m\"\u001b[39m\u001b[38;5;124mUnable to compress the pixel data using \u001b[39m\u001b[38;5;124m'\u001b[39m\u001b[38;5;132;01m{\u001b[39;00m\u001b[38;5;28mself\u001b[39m\u001b[38;5;241m.\u001b[39mUID\u001b[38;5;241m.\u001b[39mname\u001b[38;5;132;01m}\u001b[39;00m\u001b[38;5;124m'\u001b[39m\u001b[38;5;124m because \u001b[39m\u001b[38;5;124m\"\u001b[39m\n\u001b[1;32m    239\u001b[0m         \u001b[38;5;124mf\u001b[39m\u001b[38;5;124m\"\u001b[39m\u001b[38;5;124mthe specified plugin is missing dependencies:\u001b[39m\u001b[38;5;130;01m\\n\u001b[39;00m\u001b[38;5;130;01m\\t\u001b[39;00m\u001b[38;5;132;01m{\u001b[39;00mplugin\u001b[38;5;132;01m}\u001b[39;00m\u001b[38;5;124m \u001b[39m\u001b[38;5;124m\"\u001b[39m\n\u001b[1;32m    240\u001b[0m         \u001b[38;5;124mf\u001b[39m\u001b[38;5;124m\"\u001b[39m\u001b[38;5;124m- requires \u001b[39m\u001b[38;5;132;01m{\u001b[39;00mmissing\u001b[38;5;132;01m}\u001b[39;00m\u001b[38;5;124m\"\u001b[39m\n\u001b[1;32m    241\u001b[0m     )\n\u001b[1;32m    243\u001b[0m msg \u001b[38;5;241m=\u001b[39m (\n\u001b[1;32m    244\u001b[0m     \u001b[38;5;124mf\u001b[39m\u001b[38;5;124m\"\u001b[39m\u001b[38;5;124mNo plugin named \u001b[39m\u001b[38;5;124m'\u001b[39m\u001b[38;5;132;01m{\u001b[39;00mplugin\u001b[38;5;132;01m}\u001b[39;00m\u001b[38;5;124m'\u001b[39m\u001b[38;5;124m has been added to \u001b[39m\u001b[38;5;124m'\u001b[39m\u001b[38;5;132;01m{\u001b[39;00m\u001b[38;5;28mself\u001b[39m\u001b[38;5;241m.\u001b[39mUID\u001b[38;5;241m.\u001b[39mkeyword\u001b[38;5;132;01m}\u001b[39;00m\u001b[38;5;124m\"\u001b[39m\n\u001b[1;32m    245\u001b[0m     \u001b[38;5;124mf\u001b[39m\u001b[38;5;124m\"\u001b[39m\u001b[38;5;132;01m{\u001b[39;00m\u001b[38;5;28mtype\u001b[39m(\u001b[38;5;28mself\u001b[39m)\u001b[38;5;241m.\u001b[39m\u001b[38;5;18m__name__\u001b[39m\u001b[38;5;132;01m}\u001b[39;00m\u001b[38;5;124m'\u001b[39m\u001b[38;5;124m\"\u001b[39m\n\u001b[1;32m    246\u001b[0m )\n",
      "\u001b[0;31mRuntimeError\u001b[0m: Unable to decompress 'JPEG 2000 Image Compression (Lossless Only)' pixel data because the specified plugin is missing dependencies:\n\tpylibjpeg - requires pylibjpeg>=2.0 and pylibjpeg-openjpeg>=2.0"
     ]
    }
   ],
   "source": [
    "\n",
    "\n",
    "%%time\n",
    "image = dcmread_image(fp=image_path, view=view)\n",
    "\n"
   ]
  },
  {
   "cell_type": "code",
   "execution_count": 90,
   "id": "aac0c677",
   "metadata": {},
   "outputs": [
    {
     "ename": "NameError",
     "evalue": "name 'image' is not defined",
     "output_type": "error",
     "traceback": [
      "\u001b[0;31m---------------------------------------------------------------------------\u001b[0m",
      "\u001b[0;31mNameError\u001b[0m                                 Traceback (most recent call last)",
      "Cell \u001b[0;32mIn[90], line 1\u001b[0m\n\u001b[0;32m----> 1\u001b[0m plt\u001b[38;5;241m.\u001b[39mimshow(image[\u001b[38;5;241m0\u001b[39m], cmap\u001b[38;5;241m=\u001b[39mplt\u001b[38;5;241m.\u001b[39mcm\u001b[38;5;241m.\u001b[39mgray)\n",
      "\u001b[0;31mNameError\u001b[0m: name 'image' is not defined"
     ]
    }
   ],
   "source": [
    "plt.imshow(image[0], cmap=plt.cm.gray);"
   ]
  }
 ],
 "metadata": {
  "kernelspec": {
   "display_name": "biogpt",
   "language": "python",
   "name": "python3"
  },
  "language_info": {
   "codemirror_mode": {
    "name": "ipython",
    "version": 3
   },
   "file_extension": ".py",
   "mimetype": "text/x-python",
   "name": "python",
   "nbconvert_exporter": "python",
   "pygments_lexer": "ipython3",
   "version": "3.11.13"
  }
 },
 "nbformat": 4,
 "nbformat_minor": 5
}
